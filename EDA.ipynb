{
  "nbformat": 4,
  "nbformat_minor": 0,
  "metadata": {
    "colab": {
      "provenance": [],
      "authorship_tag": "ABX9TyMX/WgAmcIALeE+Av8Xhmr9",
      "include_colab_link": true
    },
    "kernelspec": {
      "name": "python3",
      "display_name": "Python 3"
    },
    "language_info": {
      "name": "python"
    }
  },
  "cells": [
    {
      "cell_type": "markdown",
      "metadata": {
        "id": "view-in-github",
        "colab_type": "text"
      },
      "source": [
        "<a href=\"https://colab.research.google.com/github/rhiats/mimicIII/blob/main/EDA.ipynb\" target=\"_parent\"><img src=\"https://colab.research.google.com/assets/colab-badge.svg\" alt=\"Open In Colab\"/></a>"
      ]
    },
    {
      "cell_type": "markdown",
      "source": [
        "**Exploratory Data Analysis**\n",
        "\n",
        "Female diagnosed with Type 2 Diabetes in the year 2008 and greater than equal to 65 years old.\n",
        "\n",
        "Type 2 Diabetic ICD Codes (E11).\n",
        "\n",
        "- Admissions (breakdown of insurance type).\n",
        "\n",
        "https://bok.ahima.org/doc?oid=105499#:~:text=In%20ICD%2D10%2DCM%2C,or%20chemical%20induced%20diabetes%20mellitus\n",
        "https://physionet.org/content/mimic3-carevue/1.4/"
      ],
      "metadata": {
        "id": "vUsI5en7gM1l"
      }
    },
    {
      "cell_type": "code",
      "source": [
        "import pandas as pd"
      ],
      "metadata": {
        "id": "sxRAPLjcgRD2"
      },
      "execution_count": 1,
      "outputs": []
    },
    {
      "cell_type": "code",
      "source": [
        "#ICD Codes to gather the patient id and get all their information for the year 2008\n",
        "#Year\n",
        "#Age\n",
        "#Sex"
      ],
      "metadata": {
        "id": "6gbCfxNzm6bx"
      },
      "execution_count": 2,
      "outputs": []
    },
    {
      "cell_type": "markdown",
      "source": [
        "**PCA**"
      ],
      "metadata": {
        "id": "1lX6GnAMH317"
      }
    },
    {
      "cell_type": "markdown",
      "source": [
        "**Scree Plot**\n",
        "\n",
        "Select Feature 1"
      ],
      "metadata": {
        "id": "-eArwtafIDIU"
      }
    },
    {
      "cell_type": "markdown",
      "source": [
        "**Interpret the Weights of the First Component**"
      ],
      "metadata": {
        "id": "nKDeFdLCIIVo"
      }
    },
    {
      "cell_type": "markdown",
      "source": [
        "**Project each patient on the First Component to Calculate their Risk Score**"
      ],
      "metadata": {
        "id": "-WnggfpcIPJs"
      }
    }
  ]
}