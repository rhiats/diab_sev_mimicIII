{
  "nbformat": 4,
  "nbformat_minor": 0,
  "metadata": {
    "colab": {
      "provenance": [],
      "authorship_tag": "ABX9TyM21ceS/6dGyo3bEcDerEB2",
      "include_colab_link": true
    },
    "kernelspec": {
      "name": "python3",
      "display_name": "Python 3"
    },
    "language_info": {
      "name": "python"
    }
  },
  "cells": [
    {
      "cell_type": "markdown",
      "metadata": {
        "id": "view-in-github",
        "colab_type": "text"
      },
      "source": [
        "<a href=\"https://colab.research.google.com/github/rhiats/mimicIII/blob/main/EDA.ipynb\" target=\"_parent\"><img src=\"https://colab.research.google.com/assets/colab-badge.svg\" alt=\"Open In Colab\"/></a>"
      ]
    },
    {
      "cell_type": "markdown",
      "source": [
        "**Exploratory Data Analysis**\n",
        "\n",
        "Female diagnosed with Diabetes in the year 2008 and greater than equal to 65 years old."
      ],
      "metadata": {
        "id": "vUsI5en7gM1l"
      }
    },
    {
      "cell_type": "code",
      "source": [],
      "metadata": {
        "id": "sxRAPLjcgRD2"
      },
      "execution_count": null,
      "outputs": []
    }
  ]
}