{
  "nbformat": 4,
  "nbformat_minor": 0,
  "metadata": {
    "colab": {
      "provenance": [],
      "mount_file_id": "1mScw_x-AyPhIBnFxTVJdcfLmQHj1QG8W",
      "authorship_tag": "ABX9TyOy3/T89iDKtLbLH6sY5QwS",
      "include_colab_link": true
    },
    "kernelspec": {
      "name": "python3",
      "display_name": "Python 3"
    },
    "language_info": {
      "name": "python"
    }
  },
  "cells": [
    {
      "cell_type": "markdown",
      "metadata": {
        "id": "view-in-github",
        "colab_type": "text"
      },
      "source": [
        "<a href=\"https://colab.research.google.com/github/rhiats/diab_sev_mimicIII/blob/main/Analysis_of_Patients_with_Type_2_Diabetes_in_ICU.ipynb\" target=\"_parent\"><img src=\"https://colab.research.google.com/assets/colab-badge.svg\" alt=\"Open In Colab\"/></a>"
      ]
    },
    {
      "cell_type": "markdown",
      "source": [
        "**Stratification Analysis of Patients with Type 2 Diabetes in ICU**\n",
        "\n",
        "Person diagnosed with Diabetes.\n",
        "\n",
        "Type 2 Diabetic ICD9 Codes (250)/ Admissions - 'diabet...'.\n",
        "\n",
        "- Admissions- breakdown of insurance type. (one hot encode)\n",
        "- Admissions - gender (one hot encode)\n",
        "- Prescriptions  - Top 5 drugs (one hot encode)\n",
        "- Prescriptions - Distribution number of drugs per patient\n",
        "\n",
        "http://www.icd9data.com/2014/Volume1/240-279/249-259/250/250.00.htm\n",
        "\n",
        "https://physionet.org/content/mimic3-carevue/1.4/\n",
        "\n",
        "https://machinelearningmastery.com/why-one-hot-encode-data-in-machine-learning/"
      ],
      "metadata": {
        "id": "vUsI5en7gM1l"
      }
    },
    {
      "cell_type": "code",
      "source": [
        "!pip install kmodes\n",
        "import pandas as pd\n",
        "import seaborn as sns\n",
        "import matplotlib.pyplot as plt\n",
        "from kmodes.kprototypes import KPrototypes\n",
        "import matplotlib.pyplot as plt\n"
      ],
      "metadata": {
        "id": "sxRAPLjcgRD2",
        "colab": {
          "base_uri": "https://localhost:8080/"
        },
        "outputId": "07726d61-665a-4df4-ab2d-e17ad09f17ab"
      },
      "execution_count": 1,
      "outputs": [
        {
          "output_type": "stream",
          "name": "stdout",
          "text": [
            "Requirement already satisfied: kmodes in /usr/local/lib/python3.10/dist-packages (0.12.2)\n",
            "Requirement already satisfied: numpy>=1.10.4 in /usr/local/lib/python3.10/dist-packages (from kmodes) (1.23.5)\n",
            "Requirement already satisfied: scikit-learn>=0.22.0 in /usr/local/lib/python3.10/dist-packages (from kmodes) (1.2.2)\n",
            "Requirement already satisfied: scipy>=0.13.3 in /usr/local/lib/python3.10/dist-packages (from kmodes) (1.10.1)\n",
            "Requirement already satisfied: joblib>=0.11 in /usr/local/lib/python3.10/dist-packages (from kmodes) (1.3.2)\n",
            "Requirement already satisfied: threadpoolctl>=2.0.0 in /usr/local/lib/python3.10/dist-packages (from scikit-learn>=0.22.0->kmodes) (3.2.0)\n"
          ]
        }
      ]
    },
    {
      "cell_type": "code",
      "source": [
        "df_admissions=pd.read_csv('/content/drive/MyDrive/mimic-iii-clinical-database-carevue-subset-1.4/ADMISSIONS.csv.gz', compression='gzip')\n",
        "df_patients=pd.read_csv('/content/drive/MyDrive/mimic-iii-clinical-database-carevue-subset-1.4/PATIENTS.csv.gz', compression='gzip')\n",
        "df_presciptions=pd.read_csv('/content/drive/MyDrive/mimic-iii-clinical-database-carevue-subset-1.4/PRESCRIPTIONS.csv.gz', compression='gzip')"
      ],
      "metadata": {
        "id": "VnbACCjy7K7g"
      },
      "execution_count": null,
      "outputs": []
    },
    {
      "cell_type": "markdown",
      "source": [
        "**Identify Diabetic Patients**"
      ],
      "metadata": {
        "id": "AjxaHN64BpYH"
      }
    },
    {
      "cell_type": "code",
      "source": [
        "def diabetetesFind(x):\n",
        "  \"\"\"\n",
        "    Find patients diagnosed with Diabetes.\n",
        "    @p: pandas series 'diagnosis'\n",
        "    @r: dataframe with diabetic patients\n",
        "  \"\"\"\n",
        "  x=str(x)\n",
        "  x=x.lower()\n",
        "  return x\n",
        "\n",
        "df_admissions['diagnosis_lower']=df_admissions['diagnosis'].apply(diabetetesFind)\n",
        "df_diab=df_admissions[df_admissions['diagnosis_lower'].str.contains(pat = 'diabet')]\n",
        "\n",
        "num_patients=df_diab['subject_id'].nunique()\n",
        "'There are {} patients in the ICU diagnosed diabetes.'.format(num_patients)"
      ],
      "metadata": {
        "id": "AwVeU6_HBoaI"
      },
      "execution_count": null,
      "outputs": []
    },
    {
      "cell_type": "markdown",
      "source": [
        "**Distribution of Patients Gender**"
      ],
      "metadata": {
        "id": "cKyjgZD9BxLy"
      }
    },
    {
      "cell_type": "code",
      "source": [
        "sub_id_diab=list(set(df_diab['subject_id'].to_list()))\n",
        "\n",
        "df_gender=df_patients[df_patients['subject_id'].isin(sub_id_diab)][['subject_id','gender']]\n",
        "\n",
        "fem_mal_df=df_gender.groupby(['gender']).count().reset_index()\n",
        "\n",
        "fem_mal_df.rename(columns={\"subject_id\": \"Count\",\"gender\": \"Gender\"}, inplace=True)\n",
        "\n",
        "sns.barplot(data=fem_mal_df, x='Gender', y=\"Count\", palette=\"deep\")\n",
        "\n",
        "plt.savefig(\"/content/drive/MyDrive/output/gender.png\")"
      ],
      "metadata": {
        "id": "Fv6l2L8HBJUO"
      },
      "execution_count": null,
      "outputs": []
    },
    {
      "cell_type": "markdown",
      "source": [
        "**Distribution of Insurance Types for Diabetic Patients**"
      ],
      "metadata": {
        "id": "NWmwDWTVKT3c"
      }
    },
    {
      "cell_type": "code",
      "source": [
        "df_insur_diab=df_admissions[df_admissions['subject_id'].isin(sub_id_diab)][['subject_id','insurance']]\n",
        "df_insur_diab.drop_duplicates(subset=['subject_id','insurance'],inplace=True)\n",
        "\n",
        "insur_df_cnt=df_insur_diab.groupby(['insurance']).nunique().reset_index()\n",
        "\n",
        "insur_df_cnt.rename(columns={\"subject_id\": \"Count\",\"insurance\": \"Insurance\"}, inplace=True)\n",
        "\n",
        "sns.barplot(data=insur_df_cnt, x='Insurance', y=\"Count\", palette=\"deep\")\n",
        "\n",
        "plt.savefig(\"/content/drive/MyDrive/output/insurance.png\")"
      ],
      "metadata": {
        "id": "6RKWQfunKdLz"
      },
      "execution_count": null,
      "outputs": []
    },
    {
      "cell_type": "markdown",
      "source": [
        "**Top 3 Drugs used by Diabetic Patients in the ICU**"
      ],
      "metadata": {
        "id": "ZLjlAttmM5yz"
      }
    },
    {
      "cell_type": "code",
      "source": [
        "df_drug_diab=df_presciptions[df_presciptions['subject_id'].isin(sub_id_diab)][['subject_id','drug']]\n",
        "df_drug=df_drug_diab.groupby(['drug']).nunique().reset_index()\n",
        "df_drug.rename(columns={\"subject_id\": \"Count\",\"drug\": \"Drug\"}, inplace=True)\n",
        "df_top_5_drugs=df_drug.nlargest(5, 'Count')\n",
        "\n",
        "sns.barplot(data=df_top_5_drugs, x='Drug', y=\"Count\", palette=\"deep\")\n",
        "plt.xticks(rotation = 25)\n",
        "\n",
        "plt.savefig(\"/content/drive/MyDrive/output/top5Drugs.png\")"
      ],
      "metadata": {
        "id": "MUtMyZWYEal5"
      },
      "execution_count": null,
      "outputs": []
    },
    {
      "cell_type": "markdown",
      "source": [
        "**Distribution of Medications per Person**"
      ],
      "metadata": {
        "id": "5Hjik0t3L1-y"
      }
    },
    {
      "cell_type": "code",
      "source": [
        "df_drug_per_patient=df_drug_diab.groupby(['subject_id']).nunique().reset_index()\n",
        "df_drug_per_patient.rename(columns={\"drug\": \"Number of Medications\"}, inplace=True)\n",
        "print(df_drug_per_patient.nlargest(5, 'Number of Medications'))\n",
        "\n",
        "sns.histplot(data=df_drug_per_patient, x=\"Number of Medications\",palette=\"Deep\")\n",
        "\n",
        "plt.savefig(\"/content/drive/MyDrive/output/drugs_per_patient.png\")"
      ],
      "metadata": {
        "id": "gy4upL0NL9M3"
      },
      "execution_count": null,
      "outputs": []
    },
    {
      "cell_type": "code",
      "source": [
        "drugs_19213_ser=df_presciptions[df_presciptions['subject_id']==19213]['drug']\n",
        "drugs_19213_ser_lst=list(set(drugs_19213_ser.to_list()))\n",
        "\"Patient 19213 is on {} unique medications while in the ICU\".format(len(drugs_19213_ser_lst))"
      ],
      "metadata": {
        "id": "P5k-2Il0OsJW"
      },
      "execution_count": null,
      "outputs": []
    },
    {
      "cell_type": "markdown",
      "source": [
        "**Feature Matrix for PCA**\n",
        "\n",
        "The most used insurance types is considered for those who switch insurance. In situations where people switch insurance once and both are equally used, then each instance is separately registered in the analysis. In this analysis patients switch insurance once, so both instances are used in the analysis. There are patients that do not have any prescriptions in the system.\n",
        "\n",
        "The features considered are:\n",
        "- Number of Medications a patient is using during treatment\n",
        "- Gender (Female/Male)\n",
        "- Insurance (Government, Medicaid, Medicare, Private, Self-Pay)\n",
        "- Medication (Other, Heparin, Insulin, Magnesium Sulfate, Normal Saline (NS), Potassium Chloride)"
      ],
      "metadata": {
        "id": "Z3jOp_UxQV68"
      }
    },
    {
      "cell_type": "code",
      "source": [
        "from re import X\n",
        "gend_insur_diab=df_gender.merge(df_insur_diab, on='subject_id',how='outer')\n",
        "\n",
        "switch_insurance_df=gend_insur_diab[gend_insur_diab.duplicated(subset=['subject_id','gender'],keep=False)]\n",
        "\n",
        "freq_switch_insurance_df=switch_insurance_df.groupby([\"insurance\",\"subject_id\"]).count().reset_index()\n",
        "switch_insurance_df.rename({\"gender\": \"Frequency\"}, inplace=True)\n",
        "\n",
        "max_switch_insurance_df=freq_switch_insurance_df.groupby([\"insurance\",\"subject_id\"]).max().reset_index()\n",
        "\n",
        "gend_insur_drug_diab=gend_insur_diab.merge(df_drug_diab, on='subject_id',how='outer')\n",
        "\n",
        "gend_insur_drug_diab['drug']=gend_insur_drug_diab['drug'].apply(diabetetesFind)\n",
        "\n",
        "gend_insur_drug_diab.drop_duplicates(subset=['subject_id','gender','insurance','drug'],inplace=True)\n",
        "\n",
        "gend_insur_drug_diab.loc[~gend_insur_drug_diab.drug.isin(['insulin','ns','potassium chloride', 'heparin','magnesium sulfate']), 'drug'] = 'Other'\n",
        "\n",
        "gend_insur_drug_diab['drug'].unique()\n",
        "\n",
        "X_df=gend_insur_drug_diab.merge(df_drug_per_patient, on='subject_id',how='outer')\n",
        "\n",
        "X_df.drop(columns=['subject_id'],axis=1, inplace=True)\n",
        "\n",
        "X_df=X_df.fillna(0)\n",
        "\n",
        "X=X_df.to_numpy()\n",
        "\n",
        "#one_hot_encoded_data = pd.get_dummies(gend_insur_drug_diab_per_p_df, columns = ['gender', 'insurance','drug'])\n"
      ],
      "metadata": {
        "id": "gY8NvrNwQZ1d"
      },
      "execution_count": null,
      "outputs": []
    },
    {
      "cell_type": "markdown",
      "source": [
        "**Model Selection**\n",
        "\n",
        "While I originally considered segmenting the patients using a PCA to calculate a severity score, I decided to use a Mixed Clustering model as the features are predominantly categorical. PCA would work best if the data was continuous so that the variation could be maximized. K-Prototype is used to handle the categorical and continuous data. A K-Means algorithm uses Euclidean distance which would not work will with the One-Hot encoded data, but KModes finds the most frequent event instead of Euclidean distance. This mixed model handles both categorical and continuous data.\n",
        "\n",
        "The Elbow method is used to select the optimal number of clusters. The aim is to minimize the distance of each point to the centroid. The optimal number of clusters is 5.\n",
        "\n",
        "https://medium.com/@tarek.tm/how-to-handle-categorical-variables-in-clustering-1daa3b05bf25#id_token=eyJhbGciOiJSUzI1NiIsImtpZCI6ImM3ZTExNDEwNTlhMTliMjE4MjA5YmM1YWY3YTgxYTcyMGUzOWI1MDAiLCJ0eXAiOiJKV1QifQ.eyJpc3MiOiJodHRwczovL2FjY291bnRzLmdvb2dsZS5jb20iLCJhenAiOiIyMTYyOTYwMzU4MzQtazFrNnFlMDYwczJ0cDJhMmphbTRsamRjbXMwMHN0dGcuYXBwcy5nb29nbGV1c2VyY29udGVudC5jb20iLCJhdWQiOiIyMTYyOTYwMzU4MzQtazFrNnFlMDYwczJ0cDJhMmphbTRsamRjbXMwMHN0dGcuYXBwcy5nb29nbGV1c2VyY29udGVudC5jb20iLCJzdWIiOiIxMDAxMzg1NDE5NTc4NzExMTExNzIiLCJlbWFpbCI6InJoaWFzaW5naDIyQGdtYWlsLmNvbSIsImVtYWlsX3ZlcmlmaWVkIjp0cnVlLCJuYmYiOjE2OTM1MjQ0MTAsIm5hbWUiOiJSaGlhIFNpbmdoIiwicGljdHVyZSI6Imh0dHBzOi8vbGgzLmdvb2dsZXVzZXJjb250ZW50LmNvbS9hL0FBY0hUdGVaNlJ1R1dwUlZCMTE4SHc1TGU4ejM3ZU5UbHlYQk9QS1lHcmdFOVhiYz1zOTYtYyIsImdpdmVuX25hbWUiOiJSaGlhIiwiZmFtaWx5X25hbWUiOiJTaW5naCIsImxvY2FsZSI6ImVuIiwiaWF0IjoxNjkzNTI0NzEwLCJleHAiOjE2OTM1MjgzMTAsImp0aSI6ImQyYzNlYmQwZDU1MGIxMjA4MDFjODY2NDc0MmVlYzAzYzU0OTExOGIifQ.dQFLRtxRsBvfJ-kWasAWRqVprH68WI0oMb81nEERWgxPaJrEJaNgdKnIAWMx4PMbJQKy_tMwW62jWSmvTVQiZCMH169Y9iitHQAmlt0Xopzjkng62pTPkQMPWXcLMuyoXS3DA8KceNhk6DcTkFsxPLqDYGRDodfelrLLlCflDYorb5cTHXT_hWg8B9JE6PClRFLCrai6g8keY5TRTYofth8CVfU2Y9XjwFFAF6C9QM9MRAq5c_Q2TrNcd_VVaSQRTzAe6ySml8NRmNLbcktVfBAAfM8tTzsSducSDv5z6-bYUkTE2RzyLsBw-GfgC5hxbsUYyntmI-LrE_qPbcJCNg\n",
        "\n",
        "https://medium.com/analytics-vidhya/clustering-on-mixed-data-types-in-python-7c22b3898086\n",
        "\n",
        "https://medium.com/@keswani-rohitkumar/k-prototypes-clustering-algorithm-f5d8e09a0104\n",
        "\n",
        "https://www.geeksforgeeks.org/elbow-method-for-optimal-value-of-k-in-kmeans/"
      ],
      "metadata": {
        "id": "acqzQLK-8yHr"
      }
    },
    {
      "cell_type": "code",
      "source": [
        "def elbow(df):\n",
        "  \"\"\"\n",
        "    Calculate the optimal number of clusters.\n",
        "\n",
        "  \"\"\"\n",
        "  cluster_num, cost=[],[]\n",
        "  for i in range(2,11):\n",
        "    cluster_num.append(i)\n",
        "    kproto=KPrototypes(n_clusters=i)\n",
        "    clusters=kproto.fit_predict(X,categorical=[0, 1,2])\n",
        "    cost.append(kproto.cost_)\n",
        "\n",
        "\n",
        "  return cluster_num,cost\n",
        "\n",
        "cluster_n,cost_arr=elbow(X)"
      ],
      "metadata": {
        "id": "Fugd9UEy9_Un"
      },
      "execution_count": null,
      "outputs": []
    },
    {
      "cell_type": "code",
      "source": [
        "plt.plot(cluster_n, cost_arr, 'bo',linestyle='-')"
      ],
      "metadata": {
        "id": "KA4JPTB--Fx-"
      },
      "execution_count": null,
      "outputs": []
    },
    {
      "cell_type": "markdown",
      "source": [
        "**5 Clusters of Diabetic Patients**"
      ],
      "metadata": {
        "id": "MzotyMbnmqIr"
      }
    },
    {
      "cell_type": "code",
      "source": [
        "kproto=KPrototypes(n_clusters=5)\n",
        "clusters=kproto.fit_predict(X,categorical=[0, 1,2])\n",
        "X_df[\"clusters\"]=pd.Series(clusters,index=X_df.index)"
      ],
      "metadata": {
        "id": "MzK_zkLicUnm"
      },
      "execution_count": null,
      "outputs": []
    }
  ]
}