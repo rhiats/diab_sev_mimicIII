{
  "nbformat": 4,
  "nbformat_minor": 0,
  "metadata": {
    "colab": {
      "provenance": [],
      "mount_file_id": "1mScw_x-AyPhIBnFxTVJdcfLmQHj1QG8W",
      "authorship_tag": "ABX9TyN8E5TeBJdoV9Y03uaG8gGx",
      "include_colab_link": true
    },
    "kernelspec": {
      "name": "python3",
      "display_name": "Python 3"
    },
    "language_info": {
      "name": "python"
    }
  },
  "cells": [
    {
      "cell_type": "markdown",
      "metadata": {
        "id": "view-in-github",
        "colab_type": "text"
      },
      "source": [
        "<a href=\"https://colab.research.google.com/github/rhiats/mimicIII/blob/main/Analysis_of_Patients_with_Type_2_Diabetes_in_ICU.ipynb\" target=\"_parent\"><img src=\"https://colab.research.google.com/assets/colab-badge.svg\" alt=\"Open In Colab\"/></a>"
      ]
    },
    {
      "cell_type": "markdown",
      "source": [
        "**Stratification Analysis of Patients with Type 2 Diabetes in ICU**\n",
        "\n",
        "Person diagnosed with Diabetes.\n",
        "\n",
        "Type 2 Diabetic ICD9 Codes (250)/ Admissions - 'diabet...'.\n",
        "\n",
        "- Admissions- breakdown of insurance type. (one hot encode)\n",
        "- Admissions - Probability of having diabetes and being male/female (one hot encode)\n",
        "- Prescriptions  - Top 3 drugs (one hot encode)\n",
        "- Prescriptions - Distribtuion number of drugs per patient\n",
        "- ICUSTAYS - Distribution of time in ICU\n",
        "- Open (DIAGNOSES_ICD.csv.gz)\n",
        "\n",
        "http://www.icd9data.com/2014/Volume1/240-279/249-259/250/250.00.htm\n",
        "\n",
        "https://physionet.org/content/mimic3-carevue/1.4/\n",
        "\n",
        "https://machinelearningmastery.com/why-one-hot-encode-data-in-machine-learning/"
      ],
      "metadata": {
        "id": "vUsI5en7gM1l"
      }
    },
    {
      "cell_type": "code",
      "source": [
        "import pandas as pd"
      ],
      "metadata": {
        "id": "sxRAPLjcgRD2"
      },
      "execution_count": 2,
      "outputs": []
    },
    {
      "cell_type": "code",
      "source": [
        "df_admissions=pd.read_csv('/content/drive/MyDrive/mimic-iii-clinical-database-carevue-subset-1.4/ADMISSIONS.csv.gz', compression='gzip')\n",
        "df_patients=pd.read_csv('/content/drive/MyDrive/mimic-iii-clinical-database-carevue-subset-1.4/PATIENTS.csv.gz', compression='gzip')"
      ],
      "metadata": {
        "id": "VnbACCjy7K7g"
      },
      "execution_count": 27,
      "outputs": []
    },
    {
      "cell_type": "markdown",
      "source": [
        "**Identify Diabetic Patients**"
      ],
      "metadata": {
        "id": "AjxaHN64BpYH"
      }
    },
    {
      "cell_type": "code",
      "source": [
        "def diabetetesFind(x):\n",
        "  \"\"\"\n",
        "    Find patients diagnosed with Diabetes.\n",
        "    @p: pandas series 'diagnosis'\n",
        "    @r: dataframe with diabetic patients\n",
        "  \"\"\"\n",
        "  x=str(x)\n",
        "  x=x.lower()\n",
        "  return x\n",
        "\n",
        "df_admissions['diagnosis_lower']=df_admissions['diagnosis'].apply(diabetetesFind)\n",
        "df_diab=df_admissions[df_admissions['diagnosis_lower'].str.contains(pat = 'diabet')]\n",
        "\n",
        "num_patients=df_diab['subject_id'].nunique()\n",
        "'There are {} patients in the ICU diagnosed diabetes.'.format(num_patients)"
      ],
      "metadata": {
        "id": "AwVeU6_HBoaI"
      },
      "execution_count": null,
      "outputs": []
    },
    {
      "cell_type": "markdown",
      "source": [
        "**Distribution of Patients Gender**"
      ],
      "metadata": {
        "id": "cKyjgZD9BxLy"
      }
    },
    {
      "cell_type": "code",
      "source": [
        "df_patients.head()\n",
        "#subject_id\n",
        "#gender\n"
      ],
      "metadata": {
        "colab": {
          "base_uri": "https://localhost:8080/",
          "height": 293
        },
        "id": "Fv6l2L8HBJUO",
        "outputId": "11a5f0a6-94e1-4543-8a3e-f596f6b5ac91"
      },
      "execution_count": 28,
      "outputs": [
        {
          "output_type": "execute_result",
          "data": {
            "text/plain": [
              "   row_id  subject_id gender                  dob                  dod  \\\n",
              "0       1           2      M  2138-07-17 00:00:00                  NaN   \n",
              "1       2           3      M  2025-04-11 00:00:00  2102-06-14 00:00:00   \n",
              "2       4           5      M  2103-02-02 00:00:00                  NaN   \n",
              "3       6           7      F  2121-05-23 00:00:00                  NaN   \n",
              "4       7           8      M  2117-11-20 00:00:00                  NaN   \n",
              "\n",
              "  dod_hosp              dod_ssn  expire_flag  \n",
              "0      NaN                  NaN            0  \n",
              "1      NaN  2102-06-14 00:00:00            1  \n",
              "2      NaN                  NaN            0  \n",
              "3      NaN                  NaN            0  \n",
              "4      NaN                  NaN            0  "
            ],
            "text/html": [
              "\n",
              "  <div id=\"df-dcc564d9-e9f2-4d0c-8896-ab5e08b2bfab\" class=\"colab-df-container\">\n",
              "    <div>\n",
              "<style scoped>\n",
              "    .dataframe tbody tr th:only-of-type {\n",
              "        vertical-align: middle;\n",
              "    }\n",
              "\n",
              "    .dataframe tbody tr th {\n",
              "        vertical-align: top;\n",
              "    }\n",
              "\n",
              "    .dataframe thead th {\n",
              "        text-align: right;\n",
              "    }\n",
              "</style>\n",
              "<table border=\"1\" class=\"dataframe\">\n",
              "  <thead>\n",
              "    <tr style=\"text-align: right;\">\n",
              "      <th></th>\n",
              "      <th>row_id</th>\n",
              "      <th>subject_id</th>\n",
              "      <th>gender</th>\n",
              "      <th>dob</th>\n",
              "      <th>dod</th>\n",
              "      <th>dod_hosp</th>\n",
              "      <th>dod_ssn</th>\n",
              "      <th>expire_flag</th>\n",
              "    </tr>\n",
              "  </thead>\n",
              "  <tbody>\n",
              "    <tr>\n",
              "      <th>0</th>\n",
              "      <td>1</td>\n",
              "      <td>2</td>\n",
              "      <td>M</td>\n",
              "      <td>2138-07-17 00:00:00</td>\n",
              "      <td>NaN</td>\n",
              "      <td>NaN</td>\n",
              "      <td>NaN</td>\n",
              "      <td>0</td>\n",
              "    </tr>\n",
              "    <tr>\n",
              "      <th>1</th>\n",
              "      <td>2</td>\n",
              "      <td>3</td>\n",
              "      <td>M</td>\n",
              "      <td>2025-04-11 00:00:00</td>\n",
              "      <td>2102-06-14 00:00:00</td>\n",
              "      <td>NaN</td>\n",
              "      <td>2102-06-14 00:00:00</td>\n",
              "      <td>1</td>\n",
              "    </tr>\n",
              "    <tr>\n",
              "      <th>2</th>\n",
              "      <td>4</td>\n",
              "      <td>5</td>\n",
              "      <td>M</td>\n",
              "      <td>2103-02-02 00:00:00</td>\n",
              "      <td>NaN</td>\n",
              "      <td>NaN</td>\n",
              "      <td>NaN</td>\n",
              "      <td>0</td>\n",
              "    </tr>\n",
              "    <tr>\n",
              "      <th>3</th>\n",
              "      <td>6</td>\n",
              "      <td>7</td>\n",
              "      <td>F</td>\n",
              "      <td>2121-05-23 00:00:00</td>\n",
              "      <td>NaN</td>\n",
              "      <td>NaN</td>\n",
              "      <td>NaN</td>\n",
              "      <td>0</td>\n",
              "    </tr>\n",
              "    <tr>\n",
              "      <th>4</th>\n",
              "      <td>7</td>\n",
              "      <td>8</td>\n",
              "      <td>M</td>\n",
              "      <td>2117-11-20 00:00:00</td>\n",
              "      <td>NaN</td>\n",
              "      <td>NaN</td>\n",
              "      <td>NaN</td>\n",
              "      <td>0</td>\n",
              "    </tr>\n",
              "  </tbody>\n",
              "</table>\n",
              "</div>\n",
              "    <div class=\"colab-df-buttons\">\n",
              "\n",
              "  <div class=\"colab-df-container\">\n",
              "    <button class=\"colab-df-convert\" onclick=\"convertToInteractive('df-dcc564d9-e9f2-4d0c-8896-ab5e08b2bfab')\"\n",
              "            title=\"Convert this dataframe to an interactive table.\"\n",
              "            style=\"display:none;\">\n",
              "\n",
              "  <svg xmlns=\"http://www.w3.org/2000/svg\" height=\"24px\" viewBox=\"0 -960 960 960\">\n",
              "    <path d=\"M120-120v-720h720v720H120Zm60-500h600v-160H180v160Zm220 220h160v-160H400v160Zm0 220h160v-160H400v160ZM180-400h160v-160H180v160Zm440 0h160v-160H620v160ZM180-180h160v-160H180v160Zm440 0h160v-160H620v160Z\"/>\n",
              "  </svg>\n",
              "    </button>\n",
              "\n",
              "  <style>\n",
              "    .colab-df-container {\n",
              "      display:flex;\n",
              "      gap: 12px;\n",
              "    }\n",
              "\n",
              "    .colab-df-convert {\n",
              "      background-color: #E8F0FE;\n",
              "      border: none;\n",
              "      border-radius: 50%;\n",
              "      cursor: pointer;\n",
              "      display: none;\n",
              "      fill: #1967D2;\n",
              "      height: 32px;\n",
              "      padding: 0 0 0 0;\n",
              "      width: 32px;\n",
              "    }\n",
              "\n",
              "    .colab-df-convert:hover {\n",
              "      background-color: #E2EBFA;\n",
              "      box-shadow: 0px 1px 2px rgba(60, 64, 67, 0.3), 0px 1px 3px 1px rgba(60, 64, 67, 0.15);\n",
              "      fill: #174EA6;\n",
              "    }\n",
              "\n",
              "    .colab-df-buttons div {\n",
              "      margin-bottom: 4px;\n",
              "    }\n",
              "\n",
              "    [theme=dark] .colab-df-convert {\n",
              "      background-color: #3B4455;\n",
              "      fill: #D2E3FC;\n",
              "    }\n",
              "\n",
              "    [theme=dark] .colab-df-convert:hover {\n",
              "      background-color: #434B5C;\n",
              "      box-shadow: 0px 1px 3px 1px rgba(0, 0, 0, 0.15);\n",
              "      filter: drop-shadow(0px 1px 2px rgba(0, 0, 0, 0.3));\n",
              "      fill: #FFFFFF;\n",
              "    }\n",
              "  </style>\n",
              "\n",
              "    <script>\n",
              "      const buttonEl =\n",
              "        document.querySelector('#df-dcc564d9-e9f2-4d0c-8896-ab5e08b2bfab button.colab-df-convert');\n",
              "      buttonEl.style.display =\n",
              "        google.colab.kernel.accessAllowed ? 'block' : 'none';\n",
              "\n",
              "      async function convertToInteractive(key) {\n",
              "        const element = document.querySelector('#df-dcc564d9-e9f2-4d0c-8896-ab5e08b2bfab');\n",
              "        const dataTable =\n",
              "          await google.colab.kernel.invokeFunction('convertToInteractive',\n",
              "                                                    [key], {});\n",
              "        if (!dataTable) return;\n",
              "\n",
              "        const docLinkHtml = 'Like what you see? Visit the ' +\n",
              "          '<a target=\"_blank\" href=https://colab.research.google.com/notebooks/data_table.ipynb>data table notebook</a>'\n",
              "          + ' to learn more about interactive tables.';\n",
              "        element.innerHTML = '';\n",
              "        dataTable['output_type'] = 'display_data';\n",
              "        await google.colab.output.renderOutput(dataTable, element);\n",
              "        const docLink = document.createElement('div');\n",
              "        docLink.innerHTML = docLinkHtml;\n",
              "        element.appendChild(docLink);\n",
              "      }\n",
              "    </script>\n",
              "  </div>\n",
              "\n",
              "\n",
              "<div id=\"df-8d916a1c-1dfd-459e-9d2d-7ae7b1de3aba\">\n",
              "  <button class=\"colab-df-quickchart\" onclick=\"quickchart('df-8d916a1c-1dfd-459e-9d2d-7ae7b1de3aba')\"\n",
              "            title=\"Suggest charts.\"\n",
              "            style=\"display:none;\">\n",
              "\n",
              "<svg xmlns=\"http://www.w3.org/2000/svg\" height=\"24px\"viewBox=\"0 0 24 24\"\n",
              "     width=\"24px\">\n",
              "    <g>\n",
              "        <path d=\"M19 3H5c-1.1 0-2 .9-2 2v14c0 1.1.9 2 2 2h14c1.1 0 2-.9 2-2V5c0-1.1-.9-2-2-2zM9 17H7v-7h2v7zm4 0h-2V7h2v10zm4 0h-2v-4h2v4z\"/>\n",
              "    </g>\n",
              "</svg>\n",
              "  </button>\n",
              "\n",
              "<style>\n",
              "  .colab-df-quickchart {\n",
              "    background-color: #E8F0FE;\n",
              "    border: none;\n",
              "    border-radius: 50%;\n",
              "    cursor: pointer;\n",
              "    display: none;\n",
              "    fill: #1967D2;\n",
              "    height: 32px;\n",
              "    padding: 0 0 0 0;\n",
              "    width: 32px;\n",
              "  }\n",
              "\n",
              "  .colab-df-quickchart:hover {\n",
              "    background-color: #E2EBFA;\n",
              "    box-shadow: 0px 1px 2px rgba(60, 64, 67, 0.3), 0px 1px 3px 1px rgba(60, 64, 67, 0.15);\n",
              "    fill: #174EA6;\n",
              "  }\n",
              "\n",
              "  [theme=dark] .colab-df-quickchart {\n",
              "    background-color: #3B4455;\n",
              "    fill: #D2E3FC;\n",
              "  }\n",
              "\n",
              "  [theme=dark] .colab-df-quickchart:hover {\n",
              "    background-color: #434B5C;\n",
              "    box-shadow: 0px 1px 3px 1px rgba(0, 0, 0, 0.15);\n",
              "    filter: drop-shadow(0px 1px 2px rgba(0, 0, 0, 0.3));\n",
              "    fill: #FFFFFF;\n",
              "  }\n",
              "</style>\n",
              "\n",
              "  <script>\n",
              "    async function quickchart(key) {\n",
              "      const charts = await google.colab.kernel.invokeFunction(\n",
              "          'suggestCharts', [key], {});\n",
              "    }\n",
              "    (() => {\n",
              "      let quickchartButtonEl =\n",
              "        document.querySelector('#df-8d916a1c-1dfd-459e-9d2d-7ae7b1de3aba button');\n",
              "      quickchartButtonEl.style.display =\n",
              "        google.colab.kernel.accessAllowed ? 'block' : 'none';\n",
              "    })();\n",
              "  </script>\n",
              "</div>\n",
              "    </div>\n",
              "  </div>\n"
            ]
          },
          "metadata": {},
          "execution_count": 28
        }
      ]
    },
    {
      "cell_type": "code",
      "source": [
        "#Age\n",
        "#Sex"
      ],
      "metadata": {
        "id": "6gbCfxNzm6bx"
      },
      "execution_count": 2,
      "outputs": []
    },
    {
      "cell_type": "markdown",
      "source": [
        "**PCA**"
      ],
      "metadata": {
        "id": "1lX6GnAMH317"
      }
    },
    {
      "cell_type": "markdown",
      "source": [
        "**Scree Plot**\n",
        "\n",
        "Select Feature 1"
      ],
      "metadata": {
        "id": "-eArwtafIDIU"
      }
    },
    {
      "cell_type": "markdown",
      "source": [
        "**Interpret the Weights of the First Component**"
      ],
      "metadata": {
        "id": "nKDeFdLCIIVo"
      }
    },
    {
      "cell_type": "markdown",
      "source": [
        "**Project each patient on the First Component to Calculate their Severity Score**"
      ],
      "metadata": {
        "id": "-WnggfpcIPJs"
      }
    },
    {
      "cell_type": "code",
      "source": [],
      "metadata": {
        "id": "ZM4SBAI1wn_k"
      },
      "execution_count": null,
      "outputs": []
    },
    {
      "cell_type": "markdown",
      "source": [
        "In the future, patients can be projected on the component to determine their risk for developing Diabetes based on pre-existing conditions."
      ],
      "metadata": {
        "id": "XB7FwamRwo1M"
      }
    }
  ]
}