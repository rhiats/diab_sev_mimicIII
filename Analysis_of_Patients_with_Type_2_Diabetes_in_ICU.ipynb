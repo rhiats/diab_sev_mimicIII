{
  "nbformat": 4,
  "nbformat_minor": 0,
  "metadata": {
    "colab": {
      "provenance": [],
      "authorship_tag": "ABX9TyPosky7JAXYt+lxou2LfwtQ",
      "include_colab_link": true
    },
    "kernelspec": {
      "name": "python3",
      "display_name": "Python 3"
    },
    "language_info": {
      "name": "python"
    }
  },
  "cells": [
    {
      "cell_type": "markdown",
      "metadata": {
        "id": "view-in-github",
        "colab_type": "text"
      },
      "source": [
        "<a href=\"https://colab.research.google.com/github/rhiats/mimicIII/blob/main/Analysis_of_Patients_with_Type_2_Diabetes_in_ICU.ipynb\" target=\"_parent\"><img src=\"https://colab.research.google.com/assets/colab-badge.svg\" alt=\"Open In Colab\"/></a>"
      ]
    },
    {
      "cell_type": "markdown",
      "source": [
        "**Stratification Analysis of Patients with Type 2 Diabetes in ICU**\n",
        "\n",
        "Person diagnosed with Type 2 Diabetes in the year 2008 and greater than equal to 65 years old.\n",
        "\n",
        "Type 2 Diabetic ICD Codes (E11)/ Admissions - 'diabet...'.\n",
        "\n",
        "- Patients - distribution of age\n",
        "- Admissions- breakdown of insurance type. (one hot encode)\n",
        "- Admissions - Probability of having diabetes and being male/female (one hot encode)\n",
        "- Prescriptions  - Top 3 drugs (one hot encode)\n",
        "- Prescriptions - Distribtuion number of drugs per patient\n",
        "- ICUSTAYS - Distribution of time in ICU\n",
        "- Open (DIAGNOSES_ICD.csv.gz)\n",
        "\n",
        "https://bok.ahima.org/doc?oid=105499#:~:text=In%20ICD%2D10%2DCM%2C,or%20chemical%20induced%20diabetes%20mellitus\n",
        "\n",
        "https://physionet.org/content/mimic3-carevue/1.4/\n",
        "\n",
        "https://machinelearningmastery.com/why-one-hot-encode-data-in-machine-learning/"
      ],
      "metadata": {
        "id": "vUsI5en7gM1l"
      }
    },
    {
      "cell_type": "code",
      "source": [
        "import pandas as pd"
      ],
      "metadata": {
        "id": "sxRAPLjcgRD2"
      },
      "execution_count": 1,
      "outputs": []
    },
    {
      "cell_type": "code",
      "source": [
        "#ICD Codes to gather the patient id and get all their information for the year 2008\n",
        "#Year\n",
        "#Age\n",
        "#Sex"
      ],
      "metadata": {
        "id": "6gbCfxNzm6bx"
      },
      "execution_count": 2,
      "outputs": []
    },
    {
      "cell_type": "markdown",
      "source": [
        "**PCA**"
      ],
      "metadata": {
        "id": "1lX6GnAMH317"
      }
    },
    {
      "cell_type": "markdown",
      "source": [
        "**Scree Plot**\n",
        "\n",
        "Select Feature 1"
      ],
      "metadata": {
        "id": "-eArwtafIDIU"
      }
    },
    {
      "cell_type": "markdown",
      "source": [
        "**Interpret the Weights of the First Component**"
      ],
      "metadata": {
        "id": "nKDeFdLCIIVo"
      }
    },
    {
      "cell_type": "markdown",
      "source": [
        "**Project each patient on the First Component to Calculate their Severity Score**"
      ],
      "metadata": {
        "id": "-WnggfpcIPJs"
      }
    },
    {
      "cell_type": "code",
      "source": [],
      "metadata": {
        "id": "ZM4SBAI1wn_k"
      },
      "execution_count": null,
      "outputs": []
    },
    {
      "cell_type": "markdown",
      "source": [
        "In the future, patients can be projected on the component to determine their risk for developing Diabetes based on pre-existing conditions."
      ],
      "metadata": {
        "id": "XB7FwamRwo1M"
      }
    }
  ]
}