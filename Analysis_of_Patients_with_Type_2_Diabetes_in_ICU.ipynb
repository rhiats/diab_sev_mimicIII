{
  "nbformat": 4,
  "nbformat_minor": 0,
  "metadata": {
    "colab": {
      "provenance": [],
      "mount_file_id": "1mScw_x-AyPhIBnFxTVJdcfLmQHj1QG8W",
      "authorship_tag": "ABX9TyNYYEzeXF7lQMPKsg5L5okr",
      "include_colab_link": true
    },
    "kernelspec": {
      "name": "python3",
      "display_name": "Python 3"
    },
    "language_info": {
      "name": "python"
    }
  },
  "cells": [
    {
      "cell_type": "markdown",
      "metadata": {
        "id": "view-in-github",
        "colab_type": "text"
      },
      "source": [
        "<a href=\"https://colab.research.google.com/github/rhiats/mimicIII/blob/main/Analysis_of_Patients_with_Type_2_Diabetes_in_ICU.ipynb\" target=\"_parent\"><img src=\"https://colab.research.google.com/assets/colab-badge.svg\" alt=\"Open In Colab\"/></a>"
      ]
    },
    {
      "cell_type": "markdown",
      "source": [
        "**Stratification Analysis of Patients with Type 2 Diabetes in ICU**\n",
        "\n",
        "Person diagnosed with Diabetes.\n",
        "\n",
        "Type 2 Diabetic ICD9 Codes (250)/ Admissions - 'diabet...'.\n",
        "\n",
        "- Admissions- breakdown of insurance type. (one hot encode)\n",
        "- Admissions - gender (one hot encode)\n",
        "- Prescriptions  - Top 3 drugs (one hot encode)\n",
        "- Prescriptions - Distribtuion number of drugs per patient\n",
        "- ICUSTAYS - Distribution of time in ICU\n",
        "- Open (DIAGNOSES_ICD.csv.gz)\n",
        "\n",
        "http://www.icd9data.com/2014/Volume1/240-279/249-259/250/250.00.htm\n",
        "\n",
        "https://physionet.org/content/mimic3-carevue/1.4/\n",
        "\n",
        "https://machinelearningmastery.com/why-one-hot-encode-data-in-machine-learning/"
      ],
      "metadata": {
        "id": "vUsI5en7gM1l"
      }
    },
    {
      "cell_type": "code",
      "source": [
        "import pandas as pd\n",
        "import seaborn as sns\n",
        "import matplotlib.pyplot as plt"
      ],
      "metadata": {
        "id": "sxRAPLjcgRD2"
      },
      "execution_count": 1,
      "outputs": []
    },
    {
      "cell_type": "code",
      "source": [
        "df_admissions=pd.read_csv('/content/drive/MyDrive/mimic-iii-clinical-database-carevue-subset-1.4/ADMISSIONS.csv.gz', compression='gzip')\n",
        "df_patients=pd.read_csv('/content/drive/MyDrive/mimic-iii-clinical-database-carevue-subset-1.4/PATIENTS.csv.gz', compression='gzip')\n",
        "df_presciptions=pd.read_csv('/content/drive/MyDrive/mimic-iii-clinical-database-carevue-subset-1.4/PRESCRIPTIONS.csv.gz', compression='gzip')"
      ],
      "metadata": {
        "colab": {
          "base_uri": "https://localhost:8080/"
        },
        "id": "VnbACCjy7K7g",
        "outputId": "3e6cc308-ad84-4b07-ef85-6e05c1ae86c7"
      },
      "execution_count": 2,
      "outputs": [
        {
          "output_type": "stream",
          "name": "stderr",
          "text": [
            "<ipython-input-2-8f50def5d0b2>:3: DtypeWarning: Columns (11) have mixed types. Specify dtype option on import or set low_memory=False.\n",
            "  df_presciptions=pd.read_csv('/content/drive/MyDrive/mimic-iii-clinical-database-carevue-subset-1.4/PRESCRIPTIONS.csv.gz', compression='gzip')\n"
          ]
        }
      ]
    },
    {
      "cell_type": "markdown",
      "source": [
        "**Identify Diabetic Patients**"
      ],
      "metadata": {
        "id": "AjxaHN64BpYH"
      }
    },
    {
      "cell_type": "code",
      "source": [
        "def diabetetesFind(x):\n",
        "  \"\"\"\n",
        "    Find patients diagnosed with Diabetes.\n",
        "    @p: pandas series 'diagnosis'\n",
        "    @r: dataframe with diabetic patients\n",
        "  \"\"\"\n",
        "  x=str(x)\n",
        "  x=x.lower()\n",
        "  return x\n",
        "\n",
        "df_admissions['diagnosis_lower']=df_admissions['diagnosis'].apply(diabetetesFind)\n",
        "df_diab=df_admissions[df_admissions['diagnosis_lower'].str.contains(pat = 'diabet')]\n",
        "\n",
        "num_patients=df_diab['subject_id'].nunique()\n",
        "'There are {} patients in the ICU diagnosed diabetes.'.format(num_patients)"
      ],
      "metadata": {
        "colab": {
          "base_uri": "https://localhost:8080/",
          "height": 36
        },
        "id": "AwVeU6_HBoaI",
        "outputId": "1422a680-1760-4d45-ccf6-d548b13056b2"
      },
      "execution_count": 3,
      "outputs": [
        {
          "output_type": "execute_result",
          "data": {
            "text/plain": [
              "'There are 131 patients in the ICU diagnosed diabetes.'"
            ],
            "application/vnd.google.colaboratory.intrinsic+json": {
              "type": "string"
            }
          },
          "metadata": {},
          "execution_count": 3
        }
      ]
    },
    {
      "cell_type": "markdown",
      "source": [
        "**Distribution of Patients Gender**"
      ],
      "metadata": {
        "id": "cKyjgZD9BxLy"
      }
    },
    {
      "cell_type": "code",
      "source": [
        "sub_id_diab=list(set(df_diab['subject_id'].to_list()))\n",
        "\n",
        "df_gender=df_patients[df_patients['subject_id'].isin(sub_id_diab)][['subject_id','gender']]\n",
        "\n",
        "fem_mal_df=df_gender.groupby(['gender']).count().reset_index()\n",
        "\n",
        "fem_mal_df.rename(columns={\"subject_id\": \"Count\",\"gender\": \"Gender\"}, inplace=True)\n",
        "\n",
        "sns.barplot(data=fem_mal_df, x='Gender', y=\"Count\", palette=\"deep\")\n",
        "\n",
        "plt.savefig(\"/content/drive/MyDrive/output/gender.png\")"
      ],
      "metadata": {
        "colab": {
          "base_uri": "https://localhost:8080/",
          "height": 449
        },
        "id": "Fv6l2L8HBJUO",
        "outputId": "cc7be5c7-4214-4c55-b8ce-2d75e30f09b0"
      },
      "execution_count": 4,
      "outputs": [
        {
          "output_type": "display_data",
          "data": {
            "text/plain": [
              "<Figure size 640x480 with 1 Axes>"
            ],
            "image/png": "[encoded data removed]"
          },
          "metadata": {}
        }
      ]
    },
    {
      "cell_type": "markdown",
      "source": [
        "**Distribution of Insurance Types for Diabetic Patients**"
      ],
      "metadata": {
        "id": "NWmwDWTVKT3c"
      }
    },
    {
      "cell_type": "code",
      "source": [
        "df_insur_diab=df_admissions[df_admissions['subject_id'].isin(sub_id_diab)][['subject_id','insurance']]\n",
        "\n",
        "insur_df_cnt=df_insur_diab.groupby(['insurance']).count().reset_index()\n",
        "\n",
        "insur_df_cnt.rename(columns={\"subject_id\": \"Count\",\"insurance\": \"Insurance\"}, inplace=True)\n",
        "\n",
        "sns.barplot(data=insur_df_cnt, x='Insurance', y=\"Count\", palette=\"deep\")\n",
        "\n",
        "plt.savefig(\"/content/drive/MyDrive/output/insurance.png\")"
      ],
      "metadata": {
        "colab": {
          "base_uri": "https://localhost:8080/",
          "height": 449
        },
        "id": "6RKWQfunKdLz",
        "outputId": "0708427e-9867-4f69-da76-69076fc27cf0"
      },
      "execution_count": 5,
      "outputs": [
        {
          "output_type": "display_data",
          "data": {
            "text/plain": [
              "<Figure size 640x480 with 1 Axes>"
            ],
            "image/png": "[encoded data removed]"
          },
          "metadata": {}
        }
      ]
    },
    {
      "cell_type": "markdown",
      "source": [
        "**Top 3 Drugs used by Diabetic Patients in the ICU**"
      ],
      "metadata": {
        "id": "ZLjlAttmM5yz"
      }
    },
    {
      "cell_type": "code",
      "source": [
        "df_drug_diab=df_presciptions[df_presciptions['subject_id'].isin(sub_id_diab)][['subject_id','drug']]\n",
        "df_drug=df_drug_diab.groupby(['drug']).nunique().reset_index()\n",
        "df_drug.rename(columns={\"subject_id\": \"Count\",\"drug\": \"Drug\"}, inplace=True)\n",
        "df_top_5_drugs=df_drug.nlargest(5, 'Count')\n",
        "\n",
        "sns.barplot(data=df_top_5_drugs, x='Drug', y=\"Count\", palette=\"deep\")\n",
        "\n",
        "plt.savefig(\"/content/drive/MyDrive/output/top5Drugs.png\")"
      ],
      "metadata": {
        "colab": {
          "base_uri": "https://localhost:8080/",
          "height": 449
        },
        "id": "MUtMyZWYEal5",
        "outputId": "5facf83c-3e45-42e6-c27c-ce9070833058"
      },
      "execution_count": 6,
      "outputs": [
        {
          "output_type": "display_data",
          "data": {
            "text/plain": [
              "<Figure size 640x480 with 1 Axes>"
            ],
            "image/png": "[encoded data removed]"
          },
          "metadata": {}
        }
      ]
    },
    {
      "cell_type": "markdown",
      "source": [
        "**PCA**"
      ],
      "metadata": {
        "id": "1lX6GnAMH317"
      }
    },
    {
      "cell_type": "markdown",
      "source": [
        "**Scree Plot**\n",
        "\n",
        "Select Feature 1"
      ],
      "metadata": {
        "id": "-eArwtafIDIU"
      }
    },
    {
      "cell_type": "markdown",
      "source": [
        "**Interpret the Weights of the First Component**"
      ],
      "metadata": {
        "id": "nKDeFdLCIIVo"
      }
    },
    {
      "cell_type": "markdown",
      "source": [
        "**Project each patient on the First Component to Calculate their Severity Score**"
      ],
      "metadata": {
        "id": "-WnggfpcIPJs"
      }
    },
    {
      "cell_type": "code",
      "source": [],
      "metadata": {
        "id": "ZM4SBAI1wn_k"
      },
      "execution_count": 6,
      "outputs": []
    },
    {
      "cell_type": "markdown",
      "source": [
        "In the future, patients can be projected on the component to determine their risk for developing Diabetes based on pre-existing conditions. Also, patients who are considered diabetic may be identified from a drug basket."
      ],
      "metadata": {
        "id": "XB7FwamRwo1M"
      }
    },
    {
      "cell_type": "code",
      "source": [],
      "metadata": {
        "id": "qAfvrHZfNRcU"
      },
      "execution_count": 6,
      "outputs": []
    }
  ]
}