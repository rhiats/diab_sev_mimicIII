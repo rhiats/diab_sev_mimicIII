{
  "nbformat": 4,
  "nbformat_minor": 0,
  "metadata": {
    "colab": {
      "provenance": [],
      "mount_file_id": "1mScw_x-AyPhIBnFxTVJdcfLmQHj1QG8W",
      "authorship_tag": "ABX9TyMGHPhScJ8wKBaSMA8hLvjK",
      "include_colab_link": true
    },
    "kernelspec": {
      "name": "python3",
      "display_name": "Python 3"
    },
    "language_info": {
      "name": "python"
    }
  },
  "cells": [
    {
      "cell_type": "markdown",
      "metadata": {
        "id": "view-in-github",
        "colab_type": "text"
      },
      "source": [
        "<a href=\"https://colab.research.google.com/github/rhiats/diab_sev_mimicIII/blob/main/Analysis_of_Patients_with_Type_2_Diabetes_in_ICU.ipynb\" target=\"_parent\"><img src=\"https://colab.research.google.com/assets/colab-badge.svg\" alt=\"Open In Colab\"/></a>"
      ]
    },
    {
      "cell_type": "markdown",
      "source": [
        "**Stratification Analysis of Patients with Type 2 Diabetes in ICU**\n",
        "\n",
        "Person diagnosed with Diabetes.\n",
        "\n",
        "Type 2 Diabetic ICD9 Codes (250)/ Admissions - 'diabet...'.\n",
        "\n",
        "- Admissions- breakdown of insurance type. (one hot encode)\n",
        "- Admissions - gender (one hot encode)\n",
        "- Prescriptions  - Top 5 drugs (one hot encode)\n",
        "- Prescriptions - Distribution number of drugs per patient\n",
        "\n",
        "http://www.icd9data.com/2014/Volume1/240-279/249-259/250/250.00.htm\n",
        "\n",
        "https://physionet.org/content/mimic3-carevue/1.4/\n",
        "\n",
        "https://machinelearningmastery.com/why-one-hot-encode-data-in-machine-learning/"
      ],
      "metadata": {
        "id": "vUsI5en7gM1l"
      }
    },
    {
      "cell_type": "code",
      "source": [
        "import pandas as pd\n",
        "import seaborn as sns\n",
        "import matplotlib.pyplot as plt"
      ],
      "metadata": {
        "id": "sxRAPLjcgRD2"
      },
      "execution_count": 1,
      "outputs": []
    },
    {
      "cell_type": "code",
      "source": [
        "df_admissions=pd.read_csv('/content/drive/MyDrive/mimic-iii-clinical-database-carevue-subset-1.4/ADMISSIONS.csv.gz', compression='gzip')\n",
        "df_patients=pd.read_csv('/content/drive/MyDrive/mimic-iii-clinical-database-carevue-subset-1.4/PATIENTS.csv.gz', compression='gzip')\n",
        "df_presciptions=pd.read_csv('/content/drive/MyDrive/mimic-iii-clinical-database-carevue-subset-1.4/PRESCRIPTIONS.csv.gz', compression='gzip')"
      ],
      "metadata": {
        "colab": {
          "base_uri": "https://localhost:8080/"
        },
        "id": "VnbACCjy7K7g",
        "outputId": "8f32738b-5134-4319-e3e9-d4d57e25846f"
      },
      "execution_count": 2,
      "outputs": [
        {
          "output_type": "stream",
          "name": "stderr",
          "text": [
            "<ipython-input-2-8f50def5d0b2>:3: DtypeWarning: Columns (11) have mixed types. Specify dtype option on import or set low_memory=False.\n",
            "  df_presciptions=pd.read_csv('/content/drive/MyDrive/mimic-iii-clinical-database-carevue-subset-1.4/PRESCRIPTIONS.csv.gz', compression='gzip')\n"
          ]
        }
      ]
    },
    {
      "cell_type": "markdown",
      "source": [
        "**Identify Diabetic Patients**"
      ],
      "metadata": {
        "id": "AjxaHN64BpYH"
      }
    },
    {
      "cell_type": "code",
      "source": [
        "def diabetetesFind(x):\n",
        "  \"\"\"\n",
        "    Find patients diagnosed with Diabetes.\n",
        "    @p: pandas series 'diagnosis'\n",
        "    @r: dataframe with diabetic patients\n",
        "  \"\"\"\n",
        "  x=str(x)\n",
        "  x=x.lower()\n",
        "  return x\n",
        "\n",
        "df_admissions['diagnosis_lower']=df_admissions['diagnosis'].apply(diabetetesFind)\n",
        "df_diab=df_admissions[df_admissions['diagnosis_lower'].str.contains(pat = 'diabet')]\n",
        "\n",
        "num_patients=df_diab['subject_id'].nunique()\n",
        "'There are {} patients in the ICU diagnosed diabetes.'.format(num_patients)"
      ],
      "metadata": {
        "colab": {
          "base_uri": "https://localhost:8080/",
          "height": 36
        },
        "id": "AwVeU6_HBoaI",
        "outputId": "78607640-d8d5-4a87-affe-c16b617f0eaa"
      },
      "execution_count": 3,
      "outputs": [
        {
          "output_type": "execute_result",
          "data": {
            "text/plain": [
              "'There are 131 patients in the ICU diagnosed diabetes.'"
            ],
            "application/vnd.google.colaboratory.intrinsic+json": {
              "type": "string"
            }
          },
          "metadata": {},
          "execution_count": 3
        }
      ]
    },
    {
      "cell_type": "markdown",
      "source": [
        "**Distribution of Patients Gender**"
      ],
      "metadata": {
        "id": "cKyjgZD9BxLy"
      }
    },
    {
      "cell_type": "code",
      "source": [
        "sub_id_diab=list(set(df_diab['subject_id'].to_list()))\n",
        "\n",
        "df_gender=df_patients[df_patients['subject_id'].isin(sub_id_diab)][['subject_id','gender']]\n",
        "\n",
        "fem_mal_df=df_gender.groupby(['gender']).count().reset_index()\n",
        "\n",
        "fem_mal_df.rename(columns={\"subject_id\": \"Count\",\"gender\": \"Gender\"}, inplace=True)\n",
        "\n",
        "sns.barplot(data=fem_mal_df, x='Gender', y=\"Count\", palette=\"deep\")\n",
        "\n",
        "plt.savefig(\"/content/drive/MyDrive/output/gender.png\")"
      ],
      "metadata": {
        "colab": {
          "base_uri": "https://localhost:8080/",
          "height": 449
        },
        "id": "Fv6l2L8HBJUO",
        "outputId": "ca9a567b-f9d0-47c6-e35d-2738c79d512b"
      },
      "execution_count": 4,
      "outputs": [
        {
          "output_type": "display_data",
          "data": {
            "text/plain": [
              "<Figure size 640x480 with 1 Axes>"
            ],
            "image/png": "[encoded data removed]"
          },
          "metadata": {}
        }
      ]
    },
    {
      "cell_type": "markdown",
      "source": [
        "**Distribution of Insurance Types for Diabetic Patients**"
      ],
      "metadata": {
        "id": "NWmwDWTVKT3c"
      }
    },
    {
      "cell_type": "code",
      "source": [
        "df_insur_diab=df_admissions[df_admissions['subject_id'].isin(sub_id_diab)][['subject_id','insurance']]\n",
        "\n",
        "insur_df_cnt=df_insur_diab.groupby(['insurance']).count().reset_index()\n",
        "\n",
        "insur_df_cnt.rename(columns={\"subject_id\": \"Count\",\"insurance\": \"Insurance\"}, inplace=True)\n",
        "\n",
        "sns.barplot(data=insur_df_cnt, x='Insurance', y=\"Count\", palette=\"deep\")\n",
        "\n",
        "plt.savefig(\"/content/drive/MyDrive/output/insurance.png\")"
      ],
      "metadata": {
        "colab": {
          "base_uri": "https://localhost:8080/",
          "height": 449
        },
        "id": "6RKWQfunKdLz",
        "outputId": "e825dd54-8197-4191-f6b1-524d6c422190"
      },
      "execution_count": 5,
      "outputs": [
        {
          "output_type": "display_data",
          "data": {
            "text/plain": [
              "<Figure size 640x480 with 1 Axes>"
            ],
            "image/png": "[encoded data removed]"
          },
          "metadata": {}
        }
      ]
    },
    {
      "cell_type": "markdown",
      "source": [
        "**Top 3 Drugs used by Diabetic Patients in the ICU**"
      ],
      "metadata": {
        "id": "ZLjlAttmM5yz"
      }
    },
    {
      "cell_type": "code",
      "source": [
        "df_drug_diab=df_presciptions[df_presciptions['subject_id'].isin(sub_id_diab)][['subject_id','drug']]\n",
        "df_drug=df_drug_diab.groupby(['drug']).nunique().reset_index()\n",
        "df_drug.rename(columns={\"subject_id\": \"Count\",\"drug\": \"Drug\"}, inplace=True)\n",
        "df_top_5_drugs=df_drug.nlargest(5, 'Count')\n",
        "\n",
        "sns.barplot(data=df_top_5_drugs, x='Drug', y=\"Count\", palette=\"deep\")\n",
        "plt.xticks(rotation = 25)\n",
        "\n",
        "plt.savefig(\"/content/drive/MyDrive/output/top5Drugs.png\")"
      ],
      "metadata": {
        "colab": {
          "base_uri": "https://localhost:8080/",
          "height": 504
        },
        "id": "MUtMyZWYEal5",
        "outputId": "161003ea-d713-4015-96f8-9620eb2a13d8"
      },
      "execution_count": 11,
      "outputs": [
        {
          "output_type": "display_data",
          "data": {
            "text/plain": [
              "<Figure size 640x480 with 1 Axes>"
            ],
            "image/png": "[encoded data removed]"
          },
          "metadata": {}
        }
      ]
    },
    {
      "cell_type": "markdown",
      "source": [
        "**Distribution of Medications per Person**"
      ],
      "metadata": {
        "id": "5Hjik0t3L1-y"
      }
    },
    {
      "cell_type": "code",
      "source": [
        "df_drug_per_patient=df_drug_diab.groupby(['subject_id']).nunique().reset_index()\n",
        "df_drug_per_patient.rename(columns={\"drug\": \"Number of Medications\"}, inplace=True)\n",
        "print(df_drug_per_patient.nlargest(5, 'Number of Medications'))\n",
        "\n",
        "sns.histplot(data=df_drug_per_patient, x=\"Number of Medications\",palette=\"Deep\")\n",
        "\n",
        "plt.savefig(\"/content/drive/MyDrive/output/drugs_per_patient.png\")"
      ],
      "metadata": {
        "colab": {
          "base_uri": "https://localhost:8080/",
          "height": 608
        },
        "id": "gy4upL0NL9M3",
        "outputId": "b054748a-2492-4b02-8914-83cd2d03a326"
      },
      "execution_count": 7,
      "outputs": [
        {
          "output_type": "stream",
          "name": "stdout",
          "text": [
            "    subject_id  Number of Medications\n",
            "78       19213                    182\n",
            "15        3868                    150\n",
            "89       21431                    147\n",
            "81       20356                    131\n",
            "68       17423                    130\n"
          ]
        },
        {
          "output_type": "stream",
          "name": "stderr",
          "text": [
            "<ipython-input-7-100319b91ee0>:5: UserWarning: Ignoring `palette` because no `hue` variable has been assigned.\n",
            "  sns.histplot(data=df_drug_per_patient, x=\"Number of Medications\",palette=\"Deep\")\n"
          ]
        },
        {
          "output_type": "display_data",
          "data": {
            "text/plain": [
              "<Figure size 640x480 with 1 Axes>"
            ],
            "image/png": "[encoded data removed]"
          },
          "metadata": {}
        }
      ]
    },
    {
      "cell_type": "code",
      "source": [
        "drugs_19213_ser=df_presciptions[df_presciptions['subject_id']==19213]['drug']\n",
        "drugs_19213_ser_lst=list(set(drugs_19213_ser.to_list()))\n",
        "\"Patient 19213 is on {} unique medications while in the ICU\".format(len(drugs_19213_ser_lst))"
      ],
      "metadata": {
        "colab": {
          "base_uri": "https://localhost:8080/",
          "height": 36
        },
        "id": "P5k-2Il0OsJW",
        "outputId": "089497a7-887f-4b3c-bbe1-93a71594a480"
      },
      "execution_count": 8,
      "outputs": [
        {
          "output_type": "execute_result",
          "data": {
            "text/plain": [
              "'Patient 19213 is on 182 unique medications while in the ICU'"
            ],
            "application/vnd.google.colaboratory.intrinsic+json": {
              "type": "string"
            }
          },
          "metadata": {},
          "execution_count": 8
        }
      ]
    },
    {
      "cell_type": "markdown",
      "source": [
        "**Feature Matrix for PCA**"
      ],
      "metadata": {
        "id": "Z3jOp_UxQV68"
      }
    },
    {
      "cell_type": "code",
      "source": [
        "#join df_gender, df_insur_diab, df_drug_diab,  df_drug_per_patient\n",
        "#Replace df_drug_diab not top 3 with 'other'\n",
        "#one-hot encode (drug 1, 2, 3, other)\n",
        "\n",
        "one_hot_encoded_data = pd.get_dummies(data, columns = ['Remarks', 'Gender'])\n",
        "print(one_hot_encoded_data)"
      ],
      "metadata": {
        "colab": {
          "base_uri": "https://localhost:8080/",
          "height": 228
        },
        "id": "gY8NvrNwQZ1d",
        "outputId": "436765e3-b1a1-4207-b303-e45263a390de"
      },
      "execution_count": 9,
      "outputs": [
        {
          "output_type": "error",
          "ename": "NameError",
          "evalue": "ignored",
          "traceback": [
            "\u001b[0;31m---------------------------------------------------------------------------\u001b[0m",
            "\u001b[0;31mNameError\u001b[0m                                 Traceback (most recent call last)",
            "\u001b[0;32m<ipython-input-9-975ac4eb0385>\u001b[0m in \u001b[0;36m<cell line: 5>\u001b[0;34m()\u001b[0m\n\u001b[1;32m      3\u001b[0m \u001b[0;31m#one-hot encode (drug 1, 2, 3, other)\u001b[0m\u001b[0;34m\u001b[0m\u001b[0;34m\u001b[0m\u001b[0m\n\u001b[1;32m      4\u001b[0m \u001b[0;34m\u001b[0m\u001b[0m\n\u001b[0;32m----> 5\u001b[0;31m \u001b[0mone_hot_encoded_data\u001b[0m \u001b[0;34m=\u001b[0m \u001b[0mpd\u001b[0m\u001b[0;34m.\u001b[0m\u001b[0mget_dummies\u001b[0m\u001b[0;34m(\u001b[0m\u001b[0mdata\u001b[0m\u001b[0;34m,\u001b[0m \u001b[0mcolumns\u001b[0m \u001b[0;34m=\u001b[0m \u001b[0;34m[\u001b[0m\u001b[0;34m'Remarks'\u001b[0m\u001b[0;34m,\u001b[0m \u001b[0;34m'Gender'\u001b[0m\u001b[0;34m]\u001b[0m\u001b[0;34m)\u001b[0m\u001b[0;34m\u001b[0m\u001b[0;34m\u001b[0m\u001b[0m\n\u001b[0m\u001b[1;32m      6\u001b[0m \u001b[0mprint\u001b[0m\u001b[0;34m(\u001b[0m\u001b[0mone_hot_encoded_data\u001b[0m\u001b[0;34m)\u001b[0m\u001b[0;34m\u001b[0m\u001b[0;34m\u001b[0m\u001b[0m\n",
            "\u001b[0;31mNameError\u001b[0m: name 'data' is not defined"
          ]
        }
      ]
    },
    {
      "cell_type": "markdown",
      "source": [
        "**PCA**"
      ],
      "metadata": {
        "id": "1lX6GnAMH317"
      }
    },
    {
      "cell_type": "markdown",
      "source": [
        "**Scree Plot**\n",
        "\n",
        "Select Feature 1"
      ],
      "metadata": {
        "id": "-eArwtafIDIU"
      }
    },
    {
      "cell_type": "markdown",
      "source": [
        "**Interpret the Weights of the First Component**"
      ],
      "metadata": {
        "id": "nKDeFdLCIIVo"
      }
    },
    {
      "cell_type": "markdown",
      "source": [
        "**Project each patient on the First Component to Calculate their Severity Score**"
      ],
      "metadata": {
        "id": "-WnggfpcIPJs"
      }
    },
    {
      "cell_type": "markdown",
      "source": [
        "In the future, patients can be projected on the component to determine their risk for developing Diabetes based on pre-existing conditions. Also, patients who are considered diabetic may be identified from a drug basket."
      ],
      "metadata": {
        "id": "XB7FwamRwo1M"
      }
    }
  ]
}