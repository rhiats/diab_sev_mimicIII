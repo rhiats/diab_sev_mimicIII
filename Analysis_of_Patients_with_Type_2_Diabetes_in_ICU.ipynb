{
  "nbformat": 4,
  "nbformat_minor": 0,
  "metadata": {
    "colab": {
      "provenance": [],
      "mount_file_id": "1mScw_x-AyPhIBnFxTVJdcfLmQHj1QG8W",
      "authorship_tag": "ABX9TyOwWGwJj6bwM+oepY5ooh+3",
      "include_colab_link": true
    },
    "kernelspec": {
      "name": "python3",
      "display_name": "Python 3"
    },
    "language_info": {
      "name": "python"
    }
  },
  "cells": [
    {
      "cell_type": "markdown",
      "metadata": {
        "id": "view-in-github",
        "colab_type": "text"
      },
      "source": [
        "<a href=\"https://colab.research.google.com/github/rhiats/diab_sev_mimicIII/blob/main/Analysis_of_Patients_with_Type_2_Diabetes_in_ICU.ipynb\" target=\"_parent\"><img src=\"https://colab.research.google.com/assets/colab-badge.svg\" alt=\"Open In Colab\"/></a>"
      ]
    },
    {
      "cell_type": "markdown",
      "source": [
        "**Stratification Analysis of Patients with Type 2 Diabetes in ICU**\n",
        "\n",
        "Person diagnosed with Diabetes.\n",
        "\n",
        "Type 2 Diabetic ICD9 Codes (250)/ Admissions - 'diabet...'.\n",
        "\n",
        "- Admissions- breakdown of insurance type. (one hot encode)\n",
        "- Admissions - gender (one hot encode)\n",
        "- Prescriptions  - Top 5 drugs (one hot encode)\n",
        "- Prescriptions - Distribution number of drugs per patient\n",
        "\n",
        "http://www.icd9data.com/2014/Volume1/240-279/249-259/250/250.00.htm\n",
        "\n",
        "https://physionet.org/content/mimic3-carevue/1.4/\n",
        "\n",
        "https://machinelearningmastery.com/why-one-hot-encode-data-in-machine-learning/"
      ],
      "metadata": {
        "id": "vUsI5en7gM1l"
      }
    },
    {
      "cell_type": "code",
      "source": [
        "!pip install kmodes\n",
        "import pandas as pd\n",
        "import seaborn as sns\n",
        "import matplotlib.pyplot as plt\n",
        "from kmodes.kprototypes import KPrototypes\n",
        "import matplotlib.pyplot as plt\n"
      ],
      "metadata": {
        "id": "sxRAPLjcgRD2",
        "colab": {
          "base_uri": "https://localhost:8080/"
        },
        "outputId": "374a059c-8f07-4d42-8da4-e18f27967f05"
      },
      "execution_count": 1,
      "outputs": [
        {
          "output_type": "stream",
          "name": "stdout",
          "text": [
            "Requirement already satisfied: kmodes in /usr/local/lib/python3.10/dist-packages (0.12.2)\n",
            "Requirement already satisfied: numpy>=1.10.4 in /usr/local/lib/python3.10/dist-packages (from kmodes) (1.23.5)\n",
            "Requirement already satisfied: scikit-learn>=0.22.0 in /usr/local/lib/python3.10/dist-packages (from kmodes) (1.2.2)\n",
            "Requirement already satisfied: scipy>=0.13.3 in /usr/local/lib/python3.10/dist-packages (from kmodes) (1.10.1)\n",
            "Requirement already satisfied: joblib>=0.11 in /usr/local/lib/python3.10/dist-packages (from kmodes) (1.3.2)\n",
            "Requirement already satisfied: threadpoolctl>=2.0.0 in /usr/local/lib/python3.10/dist-packages (from scikit-learn>=0.22.0->kmodes) (3.2.0)\n"
          ]
        }
      ]
    },
    {
      "cell_type": "code",
      "source": [
        "df_admissions=pd.read_csv('/content/drive/MyDrive/mimic-iii-clinical-database-carevue-subset-1.4/ADMISSIONS.csv.gz', compression='gzip')\n",
        "df_patients=pd.read_csv('/content/drive/MyDrive/mimic-iii-clinical-database-carevue-subset-1.4/PATIENTS.csv.gz', compression='gzip')\n",
        "df_presciptions=pd.read_csv('/content/drive/MyDrive/mimic-iii-clinical-database-carevue-subset-1.4/PRESCRIPTIONS.csv.gz', compression='gzip')"
      ],
      "metadata": {
        "colab": {
          "base_uri": "https://localhost:8080/"
        },
        "id": "VnbACCjy7K7g",
        "outputId": "9b5e4f2b-5755-464b-a730-8d5e293572f2"
      },
      "execution_count": 2,
      "outputs": [
        {
          "output_type": "stream",
          "name": "stderr",
          "text": [
            "<ipython-input-2-8f50def5d0b2>:3: DtypeWarning: Columns (11) have mixed types. Specify dtype option on import or set low_memory=False.\n",
            "  df_presciptions=pd.read_csv('/content/drive/MyDrive/mimic-iii-clinical-database-carevue-subset-1.4/PRESCRIPTIONS.csv.gz', compression='gzip')\n"
          ]
        }
      ]
    },
    {
      "cell_type": "markdown",
      "source": [
        "**Identify Diabetic Patients**"
      ],
      "metadata": {
        "id": "AjxaHN64BpYH"
      }
    },
    {
      "cell_type": "code",
      "source": [
        "def diabetetesFind(x):\n",
        "  \"\"\"\n",
        "    Find patients diagnosed with Diabetes.\n",
        "    @p: pandas series 'diagnosis'\n",
        "    @r: dataframe with diabetic patients\n",
        "  \"\"\"\n",
        "  x=str(x)\n",
        "  x=x.lower()\n",
        "  return x\n",
        "\n",
        "df_admissions['diagnosis_lower']=df_admissions['diagnosis'].apply(diabetetesFind)\n",
        "df_diab=df_admissions[df_admissions['diagnosis_lower'].str.contains(pat = 'diabet')]\n",
        "\n",
        "num_patients=df_diab['subject_id'].nunique()\n",
        "'There are {} patients in the ICU diagnosed diabetes.'.format(num_patients)"
      ],
      "metadata": {
        "colab": {
          "base_uri": "https://localhost:8080/",
          "height": 36
        },
        "id": "AwVeU6_HBoaI",
        "outputId": "8068524c-3f6e-4348-c589-99f28d21973c"
      },
      "execution_count": 3,
      "outputs": [
        {
          "output_type": "execute_result",
          "data": {
            "text/plain": [
              "'There are 131 patients in the ICU diagnosed diabetes.'"
            ],
            "application/vnd.google.colaboratory.intrinsic+json": {
              "type": "string"
            }
          },
          "metadata": {},
          "execution_count": 3
        }
      ]
    },
    {
      "cell_type": "markdown",
      "source": [
        "**Distribution of Patients Gender**"
      ],
      "metadata": {
        "id": "cKyjgZD9BxLy"
      }
    },
    {
      "cell_type": "code",
      "source": [
        "sub_id_diab=list(set(df_diab['subject_id'].to_list()))\n",
        "\n",
        "df_gender=df_patients[df_patients['subject_id'].isin(sub_id_diab)][['subject_id','gender']]\n",
        "\n",
        "fem_mal_df=df_gender.groupby(['gender']).count().reset_index()\n",
        "\n",
        "fem_mal_df.rename(columns={\"subject_id\": \"Count\",\"gender\": \"Gender\"}, inplace=True)\n",
        "\n",
        "sns.barplot(data=fem_mal_df, x='Gender', y=\"Count\", palette=\"deep\")\n",
        "\n",
        "plt.savefig(\"/content/drive/MyDrive/output/gender.png\")"
      ],
      "metadata": {
        "colab": {
          "base_uri": "https://localhost:8080/",
          "height": 449
        },
        "id": "Fv6l2L8HBJUO",
        "outputId": "8847fdcc-7794-42be-d22c-a277cab53f89"
      },
      "execution_count": 4,
      "outputs": [
        {
          "output_type": "display_data",
          "data": {
            "text/plain": [
              "<Figure size 640x480 with 1 Axes>"
            ],
            "image/png": "[encoded data removed]"
          },
          "metadata": {}
        }
      ]
    },
    {
      "cell_type": "markdown",
      "source": [
        "**Distribution of Insurance Types for Diabetic Patients**"
      ],
      "metadata": {
        "id": "NWmwDWTVKT3c"
      }
    },
    {
      "cell_type": "code",
      "source": [
        "df_insur_diab=df_admissions[df_admissions['subject_id'].isin(sub_id_diab)][['subject_id','insurance']]\n",
        "df_insur_diab.drop_duplicates(subset=['subject_id','insurance'],inplace=True)\n",
        "\n",
        "insur_df_cnt=df_insur_diab.groupby(['insurance']).nunique().reset_index()\n",
        "\n",
        "insur_df_cnt.rename(columns={\"subject_id\": \"Count\",\"insurance\": \"Insurance\"}, inplace=True)\n",
        "\n",
        "sns.barplot(data=insur_df_cnt, x='Insurance', y=\"Count\", palette=\"deep\")\n",
        "\n",
        "plt.savefig(\"/content/drive/MyDrive/output/insurance.png\")"
      ],
      "metadata": {
        "colab": {
          "base_uri": "https://localhost:8080/",
          "height": 449
        },
        "id": "6RKWQfunKdLz",
        "outputId": "c648177c-019d-4f78-cc0c-bcc3bc9ee44d"
      },
      "execution_count": 5,
      "outputs": [
        {
          "output_type": "display_data",
          "data": {
            "text/plain": [
              "<Figure size 640x480 with 1 Axes>"
            ],
            "image/png": "[encoded data removed]"
          },
          "metadata": {}
        }
      ]
    },
    {
      "cell_type": "markdown",
      "source": [
        "**Top 3 Drugs used by Diabetic Patients in the ICU**"
      ],
      "metadata": {
        "id": "ZLjlAttmM5yz"
      }
    },
    {
      "cell_type": "code",
      "source": [
        "df_drug_diab=df_presciptions[df_presciptions['subject_id'].isin(sub_id_diab)][['subject_id','drug']]\n",
        "df_drug=df_drug_diab.groupby(['drug']).nunique().reset_index()\n",
        "df_drug.rename(columns={\"subject_id\": \"Count\",\"drug\": \"Drug\"}, inplace=True)\n",
        "df_top_5_drugs=df_drug.nlargest(5, 'Count')\n",
        "\n",
        "sns.barplot(data=df_top_5_drugs, x='Drug', y=\"Count\", palette=\"deep\")\n",
        "plt.xticks(rotation = 25)\n",
        "\n",
        "plt.savefig(\"/content/drive/MyDrive/output/top5Drugs.png\")"
      ],
      "metadata": {
        "colab": {
          "base_uri": "https://localhost:8080/",
          "height": 504
        },
        "id": "MUtMyZWYEal5",
        "outputId": "e51a88df-8e00-4d8d-bfa3-a97fe42b975c"
      },
      "execution_count": 6,
      "outputs": [
        {
          "output_type": "display_data",
          "data": {
            "text/plain": [
              "<Figure size 640x480 with 1 Axes>"
            ],
            "image/png": "[encoded data removed]"
          },
          "metadata": {}
        }
      ]
    },
    {
      "cell_type": "markdown",
      "source": [
        "**Distribution of Medications per Person**"
      ],
      "metadata": {
        "id": "5Hjik0t3L1-y"
      }
    },
    {
      "cell_type": "code",
      "source": [
        "df_drug_per_patient=df_drug_diab.groupby(['subject_id']).nunique().reset_index()\n",
        "df_drug_per_patient.rename(columns={\"drug\": \"Number of Medications\"}, inplace=True)\n",
        "print(df_drug_per_patient.nlargest(5, 'Number of Medications'))\n",
        "\n",
        "sns.histplot(data=df_drug_per_patient, x=\"Number of Medications\",palette=\"Deep\")\n",
        "\n",
        "plt.savefig(\"/content/drive/MyDrive/output/drugs_per_patient.png\")"
      ],
      "metadata": {
        "colab": {
          "base_uri": "https://localhost:8080/",
          "height": 608
        },
        "id": "gy4upL0NL9M3",
        "outputId": "aebe7da0-210c-4942-a9a9-9b444c955538"
      },
      "execution_count": 7,
      "outputs": [
        {
          "output_type": "stream",
          "name": "stdout",
          "text": [
            "    subject_id  Number of Medications\n",
            "78       19213                    182\n",
            "15        3868                    150\n",
            "89       21431                    147\n",
            "81       20356                    131\n",
            "68       17423                    130\n"
          ]
        },
        {
          "output_type": "stream",
          "name": "stderr",
          "text": [
            "<ipython-input-7-100319b91ee0>:5: UserWarning: Ignoring `palette` because no `hue` variable has been assigned.\n",
            "  sns.histplot(data=df_drug_per_patient, x=\"Number of Medications\",palette=\"Deep\")\n"
          ]
        },
        {
          "output_type": "display_data",
          "data": {
            "text/plain": [
              "<Figure size 640x480 with 1 Axes>"
            ],
            "image/png": "[encoded data removed]"
          },
          "metadata": {}
        }
      ]
    },
    {
      "cell_type": "code",
      "source": [
        "drugs_19213_ser=df_presciptions[df_presciptions['subject_id']==19213]['drug']\n",
        "drugs_19213_ser_lst=list(set(drugs_19213_ser.to_list()))\n",
        "\"Patient 19213 is on {} unique medications while in the ICU\".format(len(drugs_19213_ser_lst))"
      ],
      "metadata": {
        "colab": {
          "base_uri": "https://localhost:8080/",
          "height": 36
        },
        "id": "P5k-2Il0OsJW",
        "outputId": "0e3a9dc7-8643-4bd1-de92-24c265c551e8"
      },
      "execution_count": 8,
      "outputs": [
        {
          "output_type": "execute_result",
          "data": {
            "text/plain": [
              "'Patient 19213 is on 182 unique medications while in the ICU'"
            ],
            "application/vnd.google.colaboratory.intrinsic+json": {
              "type": "string"
            }
          },
          "metadata": {},
          "execution_count": 8
        }
      ]
    },
    {
      "cell_type": "markdown",
      "source": [
        "**Feature Matrix for PCA**\n",
        "\n",
        "The most used insurance types is considered for those who switch insurance. In situations where people switch insurance once and both are equally used, then each instance is separately registered in the analysis. In this analysis patients switch insurance once, so both instances are used in the analysis. There are patients that do not have any prescriptions in the system.\n",
        "\n",
        "The features considered are:\n",
        "- Number of Medications a patient is using during treatment\n",
        "- Gender (Female/Male)\n",
        "- Insurance (Government, Medicaid, Medicare, Private, Self-Pay)\n",
        "- Medication (Others, Heparin, Insulin, Magnesium Sulfate, Normal Saline (NS), Potassium Chloride)"
      ],
      "metadata": {
        "id": "Z3jOp_UxQV68"
      }
    },
    {
      "cell_type": "code",
      "source": [
        "from re import X\n",
        "gend_insur_diab=df_gender.merge(df_insur_diab, on='subject_id',how='outer')\n",
        "\n",
        "switch_insurance_df=gend_insur_diab[gend_insur_diab.duplicated(subset=['subject_id','gender'],keep=False)]\n",
        "\n",
        "freq_switch_insurance_df=switch_insurance_df.groupby([\"insurance\",\"subject_id\"]).count().reset_index()\n",
        "switch_insurance_df.rename({\"gender\": \"Frequency\"}, inplace=True)\n",
        "\n",
        "max_switch_insurance_df=freq_switch_insurance_df.groupby([\"insurance\",\"subject_id\"]).max().reset_index()\n",
        "\n",
        "gend_insur_drug_diab=gend_insur_diab.merge(df_drug_diab, on='subject_id',how='outer')\n",
        "\n",
        "gend_insur_drug_diab['drug']=gend_insur_drug_diab['drug'].apply(diabetetesFind)\n",
        "\n",
        "gend_insur_drug_diab.drop_duplicates(subset=['subject_id','gender','insurance','drug'],inplace=True)\n",
        "\n",
        "#gend_insur_drug_diab.loc[~gend_insur_drug_diab.drug.isin(['insulin','ns','potassium chloride', 'heparin','magnesium sulfate']), 'drug'] = 'Other'\n",
        "\n",
        "gend_insur_drug_diab['drug'].unique()\n",
        "\n",
        "X_df=gend_insur_drug_diab.merge(df_drug_per_patient, on='subject_id',how='outer')\n",
        "\n",
        "X_df.drop(columns=['subject_id'],axis=1, inplace=True)\n",
        "\n",
        "X_df=X_df.fillna(0)\n",
        "\n",
        "X=X_df.to_numpy()\n",
        "\n",
        "#one_hot_encoded_data = pd.get_dummies(gend_insur_drug_diab_per_p_df, columns = ['gender', 'insurance','drug'])\n"
      ],
      "metadata": {
        "colab": {
          "base_uri": "https://localhost:8080/"
        },
        "id": "gY8NvrNwQZ1d",
        "outputId": "d823b233-11a7-4033-e7a4-d8855cb44b0b"
      },
      "execution_count": 9,
      "outputs": [
        {
          "output_type": "stream",
          "name": "stderr",
          "text": [
            "<ipython-input-9-1f5422639954>:7: SettingWithCopyWarning: \n",
            "A value is trying to be set on a copy of a slice from a DataFrame\n",
            "\n",
            "See the caveats in the documentation: https://pandas.pydata.org/pandas-docs/stable/user_guide/indexing.html#returning-a-view-versus-a-copy\n",
            "  switch_insurance_df.rename({\"gender\": \"Frequency\"}, inplace=True)\n"
          ]
        }
      ]
    },
    {
      "cell_type": "markdown",
      "source": [
        "**Model Selection**\n",
        "\n",
        "While I originally considered segmenting the patients using a PCA to calculate a severity score, I decided to use a Mixed Clustering model as the features are predominantly categorical. PCA would work best if the data was continuous so that the variation could be maximized. K-Prototype is used to handle the categorical and continuous data. A K-Means algorithm uses Euclidean distance which would not work will with the categorical data, but KModes finds the most frequent event instead of Euclidean distance. This mixed model handles both categorical and continuous data.\n",
        "\n",
        "The Elbow method is used to select the optimal number of clusters. The aim is to minimize the distance of each point to the centroid. The optimal number of clusters is 5.\n",
        "\n",
        "https://medium.com/analytics-vidhya/clustering-on-mixed-data-types-in-python-7c22b3898086\n",
        "\n",
        "https://medium.com/@keswani-rohitkumar/k-prototypes-clustering-algorithm-f5d8e09a0104\n",
        "\n",
        "https://www.geeksforgeeks.org/elbow-method-for-optimal-value-of-k-in-kmeans/"
      ],
      "metadata": {
        "id": "acqzQLK-8yHr"
      }
    },
    {
      "cell_type": "code",
      "source": [
        "def elbow(df):\n",
        "  \"\"\"\n",
        "    Calculate the optimal number of clusters.\n",
        "\n",
        "  \"\"\"\n",
        "  cluster_num, cost=[],[]\n",
        "  for i in range(2,11):\n",
        "    cluster_num.append(i)\n",
        "    kproto=KPrototypes(n_clusters=i)\n",
        "    clusters=kproto.fit_predict(X,categorical=[0, 1,2])\n",
        "    cost.append(kproto.cost_)\n",
        "\n",
        "\n",
        "  return cluster_num,cost\n",
        "\n",
        "cluster_n,cost_arr=elbow(X)"
      ],
      "metadata": {
        "id": "Fugd9UEy9_Un"
      },
      "execution_count": 10,
      "outputs": []
    },
    {
      "cell_type": "code",
      "source": [
        "plt.plot(cluster_n, cost_arr, 'bo',linestyle='-')\n",
        "plt.savefig('/content/drive/MyDrive/output/elbow.png')"
      ],
      "metadata": {
        "id": "KA4JPTB--Fx-",
        "colab": {
          "base_uri": "https://localhost:8080/",
          "height": 445
        },
        "outputId": "70913636-4d6c-4e14-c034-c7c285bb6ada"
      },
      "execution_count": 11,
      "outputs": [
        {
          "output_type": "display_data",
          "data": {
            "text/plain": [
              "<Figure size 640x480 with 1 Axes>"
            ],
            "image/png": "[encoded data removed]"
          },
          "metadata": {}
        }
      ]
    },
    {
      "cell_type": "markdown",
      "source": [
        "**5 Clusters of Diabetic Patients**"
      ],
      "metadata": {
        "id": "MzotyMbnmqIr"
      }
    },
    {
      "cell_type": "code",
      "source": [
        "kproto=KPrototypes(n_clusters=5)\n",
        "clusters=kproto.fit_predict(X,categorical=[0, 1,2])\n",
        "X_df[\"clusters\"]=pd.Series(clusters,index=X_df.index)"
      ],
      "metadata": {
        "id": "MzK_zkLicUnm"
      },
      "execution_count": 12,
      "outputs": []
    },
    {
      "cell_type": "markdown",
      "source": [
        "**Describe Clusters**\n",
        "\n",
        "Clusters 2, 4 and 5 are composed of predominantly female patients, while clusters 1 and 3 are predominantly males.\n",
        "\n",
        "Clusters 1, 3, 4, and 5 are predominantly Medicare patients, so patients who are at least 65 years old. Cluster 2 is composed of patients on Private insurance with a median of 23 medications. Cluster 4 is only composed of Medicare and Medicaid insurance, so patients living on a lower income/fixed income. These patients are in a different income level than those of Medicare, who may be retired and living on a fixed income.\n",
        "\n",
        "Patients is clusters 2, 3, and 5 are treating on Insulin and those is cluster 3 are also suffering from High Blood Pressure. Cluster 2 and 3 are the largest clusters in the analysis - both with ~1,400 patients."
      ],
      "metadata": {
        "id": "8yYtola8x9r0"
      }
    },
    {
      "cell_type": "code",
      "source": [
        "X0_df=X_df[X_df['clusters']==0]\n",
        "X1_df=X_df[X_df['clusters']==1]\n",
        "X2_df=X_df[X_df['clusters']==2]\n",
        "X3_df=X_df[X_df['clusters']==3]\n",
        "X4_df=X_df[X_df['clusters']==4]\n",
        "\n",
        "X0_df.head()"
      ],
      "metadata": {
        "colab": {
          "base_uri": "https://localhost:8080/",
          "height": 206
        },
        "id": "QBDuENckyAaY",
        "outputId": "656b2cf5-d933-4181-baef-21b9473b978f"
      },
      "execution_count": 13,
      "outputs": [
        {
          "output_type": "execute_result",
          "data": {
            "text/plain": [
              "     gender insurance                                drug  \\\n",
              "2897      M   Private                          furosemide   \n",
              "2898      M   Private                           lorazepam   \n",
              "2899      M   Private                    morphine sulfate   \n",
              "2900      M   Private                       trazodone hcl   \n",
              "2901      M   Private  olanzapine (disintegrating tablet)   \n",
              "\n",
              "      Number of Medications  clusters  \n",
              "2897                  128.0         0  \n",
              "2898                  128.0         0  \n",
              "2899                  128.0         0  \n",
              "2900                  128.0         0  \n",
              "2901                  128.0         0  "
            ],
            "text/html": [
              "\n",
              "  <div id=\"df-5311200f-3ab2-4d5c-9a1e-c818837421eb\" class=\"colab-df-container\">\n",
              "    <div>\n",
              "<style scoped>\n",
              "    .dataframe tbody tr th:only-of-type {\n",
              "        vertical-align: middle;\n",
              "    }\n",
              "\n",
              "    .dataframe tbody tr th {\n",
              "        vertical-align: top;\n",
              "    }\n",
              "\n",
              "    .dataframe thead th {\n",
              "        text-align: right;\n",
              "    }\n",
              "</style>\n",
              "<table border=\"1\" class=\"dataframe\">\n",
              "  <thead>\n",
              "    <tr style=\"text-align: right;\">\n",
              "      <th></th>\n",
              "      <th>gender</th>\n",
              "      <th>insurance</th>\n",
              "      <th>drug</th>\n",
              "      <th>Number of Medications</th>\n",
              "      <th>clusters</th>\n",
              "    </tr>\n",
              "  </thead>\n",
              "  <tbody>\n",
              "    <tr>\n",
              "      <th>2897</th>\n",
              "      <td>M</td>\n",
              "      <td>Private</td>\n",
              "      <td>furosemide</td>\n",
              "      <td>128.0</td>\n",
              "      <td>0</td>\n",
              "    </tr>\n",
              "    <tr>\n",
              "      <th>2898</th>\n",
              "      <td>M</td>\n",
              "      <td>Private</td>\n",
              "      <td>lorazepam</td>\n",
              "      <td>128.0</td>\n",
              "      <td>0</td>\n",
              "    </tr>\n",
              "    <tr>\n",
              "      <th>2899</th>\n",
              "      <td>M</td>\n",
              "      <td>Private</td>\n",
              "      <td>morphine sulfate</td>\n",
              "      <td>128.0</td>\n",
              "      <td>0</td>\n",
              "    </tr>\n",
              "    <tr>\n",
              "      <th>2900</th>\n",
              "      <td>M</td>\n",
              "      <td>Private</td>\n",
              "      <td>trazodone hcl</td>\n",
              "      <td>128.0</td>\n",
              "      <td>0</td>\n",
              "    </tr>\n",
              "    <tr>\n",
              "      <th>2901</th>\n",
              "      <td>M</td>\n",
              "      <td>Private</td>\n",
              "      <td>olanzapine (disintegrating tablet)</td>\n",
              "      <td>128.0</td>\n",
              "      <td>0</td>\n",
              "    </tr>\n",
              "  </tbody>\n",
              "</table>\n",
              "</div>\n",
              "    <div class=\"colab-df-buttons\">\n",
              "\n",
              "  <div class=\"colab-df-container\">\n",
              "    <button class=\"colab-df-convert\" onclick=\"convertToInteractive('df-5311200f-3ab2-4d5c-9a1e-c818837421eb')\"\n",
              "            title=\"Convert this dataframe to an interactive table.\"\n",
              "            style=\"display:none;\">\n",
              "\n",
              "  <svg xmlns=\"http://www.w3.org/2000/svg\" height=\"24px\" viewBox=\"0 -960 960 960\">\n",
              "    <path d=\"M120-120v-720h720v720H120Zm60-500h600v-160H180v160Zm220 220h160v-160H400v160Zm0 220h160v-160H400v160ZM180-400h160v-160H180v160Zm440 0h160v-160H620v160ZM180-180h160v-160H180v160Zm440 0h160v-160H620v160Z\"/>\n",
              "  </svg>\n",
              "    </button>\n",
              "\n",
              "  <style>\n",
              "    .colab-df-container {\n",
              "      display:flex;\n",
              "      gap: 12px;\n",
              "    }\n",
              "\n",
              "    .colab-df-convert {\n",
              "      background-color: #E8F0FE;\n",
              "      border: none;\n",
              "      border-radius: 50%;\n",
              "      cursor: pointer;\n",
              "      display: none;\n",
              "      fill: #1967D2;\n",
              "      height: 32px;\n",
              "      padding: 0 0 0 0;\n",
              "      width: 32px;\n",
              "    }\n",
              "\n",
              "    .colab-df-convert:hover {\n",
              "      background-color: #E2EBFA;\n",
              "      box-shadow: 0px 1px 2px rgba(60, 64, 67, 0.3), 0px 1px 3px 1px rgba(60, 64, 67, 0.15);\n",
              "      fill: #174EA6;\n",
              "    }\n",
              "\n",
              "    .colab-df-buttons div {\n",
              "      margin-bottom: 4px;\n",
              "    }\n",
              "\n",
              "    [theme=dark] .colab-df-convert {\n",
              "      background-color: #3B4455;\n",
              "      fill: #D2E3FC;\n",
              "    }\n",
              "\n",
              "    [theme=dark] .colab-df-convert:hover {\n",
              "      background-color: #434B5C;\n",
              "      box-shadow: 0px 1px 3px 1px rgba(0, 0, 0, 0.15);\n",
              "      filter: drop-shadow(0px 1px 2px rgba(0, 0, 0, 0.3));\n",
              "      fill: #FFFFFF;\n",
              "    }\n",
              "  </style>\n",
              "\n",
              "    <script>\n",
              "      const buttonEl =\n",
              "        document.querySelector('#df-5311200f-3ab2-4d5c-9a1e-c818837421eb button.colab-df-convert');\n",
              "      buttonEl.style.display =\n",
              "        google.colab.kernel.accessAllowed ? 'block' : 'none';\n",
              "\n",
              "      async function convertToInteractive(key) {\n",
              "        const element = document.querySelector('#df-5311200f-3ab2-4d5c-9a1e-c818837421eb');\n",
              "        const dataTable =\n",
              "          await google.colab.kernel.invokeFunction('convertToInteractive',\n",
              "                                                    [key], {});\n",
              "        if (!dataTable) return;\n",
              "\n",
              "        const docLinkHtml = 'Like what you see? Visit the ' +\n",
              "          '<a target=\"_blank\" href=https://colab.research.google.com/notebooks/data_table.ipynb>data table notebook</a>'\n",
              "          + ' to learn more about interactive tables.';\n",
              "        element.innerHTML = '';\n",
              "        dataTable['output_type'] = 'display_data';\n",
              "        await google.colab.output.renderOutput(dataTable, element);\n",
              "        const docLink = document.createElement('div');\n",
              "        docLink.innerHTML = docLinkHtml;\n",
              "        element.appendChild(docLink);\n",
              "      }\n",
              "    </script>\n",
              "  </div>\n",
              "\n",
              "\n",
              "<div id=\"df-e1468333-a3aa-4292-872b-cf2f75fd63ba\">\n",
              "  <button class=\"colab-df-quickchart\" onclick=\"quickchart('df-e1468333-a3aa-4292-872b-cf2f75fd63ba')\"\n",
              "            title=\"Suggest charts.\"\n",
              "            style=\"display:none;\">\n",
              "\n",
              "<svg xmlns=\"http://www.w3.org/2000/svg\" height=\"24px\"viewBox=\"0 0 24 24\"\n",
              "     width=\"24px\">\n",
              "    <g>\n",
              "        <path d=\"M19 3H5c-1.1 0-2 .9-2 2v14c0 1.1.9 2 2 2h14c1.1 0 2-.9 2-2V5c0-1.1-.9-2-2-2zM9 17H7v-7h2v7zm4 0h-2V7h2v10zm4 0h-2v-4h2v4z\"/>\n",
              "    </g>\n",
              "</svg>\n",
              "  </button>\n",
              "\n",
              "<style>\n",
              "  .colab-df-quickchart {\n",
              "      --bg-color: #E8F0FE;\n",
              "      --fill-color: #1967D2;\n",
              "      --hover-bg-color: #E2EBFA;\n",
              "      --hover-fill-color: #174EA6;\n",
              "      --disabled-fill-color: #AAA;\n",
              "      --disabled-bg-color: #DDD;\n",
              "  }\n",
              "\n",
              "  [theme=dark] .colab-df-quickchart {\n",
              "      --bg-color: #3B4455;\n",
              "      --fill-color: #D2E3FC;\n",
              "      --hover-bg-color: #434B5C;\n",
              "      --hover-fill-color: #FFFFFF;\n",
              "      --disabled-bg-color: #3B4455;\n",
              "      --disabled-fill-color: #666;\n",
              "  }\n",
              "\n",
              "  .colab-df-quickchart {\n",
              "    background-color: var(--bg-color);\n",
              "    border: none;\n",
              "    border-radius: 50%;\n",
              "    cursor: pointer;\n",
              "    display: none;\n",
              "    fill: var(--fill-color);\n",
              "    height: 32px;\n",
              "    padding: 0;\n",
              "    width: 32px;\n",
              "  }\n",
              "\n",
              "  .colab-df-quickchart:hover {\n",
              "    background-color: var(--hover-bg-color);\n",
              "    box-shadow: 0 1px 2px rgba(60, 64, 67, 0.3), 0 1px 3px 1px rgba(60, 64, 67, 0.15);\n",
              "    fill: var(--button-hover-fill-color);\n",
              "  }\n",
              "\n",
              "  .colab-df-quickchart-complete:disabled,\n",
              "  .colab-df-quickchart-complete:disabled:hover {\n",
              "    background-color: var(--disabled-bg-color);\n",
              "    fill: var(--disabled-fill-color);\n",
              "    box-shadow: none;\n",
              "  }\n",
              "\n",
              "  .colab-df-spinner {\n",
              "    border: 2px solid var(--fill-color);\n",
              "    border-color: transparent;\n",
              "    border-bottom-color: var(--fill-color);\n",
              "    animation:\n",
              "      spin 1s steps(1) infinite;\n",
              "  }\n",
              "\n",
              "  @keyframes spin {\n",
              "    0% {\n",
              "      border-color: transparent;\n",
              "      border-bottom-color: var(--fill-color);\n",
              "      border-left-color: var(--fill-color);\n",
              "    }\n",
              "    20% {\n",
              "      border-color: transparent;\n",
              "      border-left-color: var(--fill-color);\n",
              "      border-top-color: var(--fill-color);\n",
              "    }\n",
              "    30% {\n",
              "      border-color: transparent;\n",
              "      border-left-color: var(--fill-color);\n",
              "      border-top-color: var(--fill-color);\n",
              "      border-right-color: var(--fill-color);\n",
              "    }\n",
              "    40% {\n",
              "      border-color: transparent;\n",
              "      border-right-color: var(--fill-color);\n",
              "      border-top-color: var(--fill-color);\n",
              "    }\n",
              "    60% {\n",
              "      border-color: transparent;\n",
              "      border-right-color: var(--fill-color);\n",
              "    }\n",
              "    80% {\n",
              "      border-color: transparent;\n",
              "      border-right-color: var(--fill-color);\n",
              "      border-bottom-color: var(--fill-color);\n",
              "    }\n",
              "    90% {\n",
              "      border-color: transparent;\n",
              "      border-bottom-color: var(--fill-color);\n",
              "    }\n",
              "  }\n",
              "</style>\n",
              "\n",
              "  <script>\n",
              "    async function quickchart(key) {\n",
              "      const quickchartButtonEl =\n",
              "        document.querySelector('#' + key + ' button');\n",
              "      quickchartButtonEl.disabled = true;  // To prevent multiple clicks.\n",
              "      quickchartButtonEl.classList.add('colab-df-spinner');\n",
              "      try {\n",
              "        const charts = await google.colab.kernel.invokeFunction(\n",
              "            'suggestCharts', [key], {});\n",
              "      } catch (error) {\n",
              "        console.error('Error during call to suggestCharts:', error);\n",
              "      }\n",
              "      quickchartButtonEl.classList.remove('colab-df-spinner');\n",
              "      quickchartButtonEl.classList.add('colab-df-quickchart-complete');\n",
              "    }\n",
              "    (() => {\n",
              "      let quickchartButtonEl =\n",
              "        document.querySelector('#df-e1468333-a3aa-4292-872b-cf2f75fd63ba button');\n",
              "      quickchartButtonEl.style.display =\n",
              "        google.colab.kernel.accessAllowed ? 'block' : 'none';\n",
              "    })();\n",
              "  </script>\n",
              "</div>\n",
              "    </div>\n",
              "  </div>\n"
            ]
          },
          "metadata": {},
          "execution_count": 13
        }
      ]
    },
    {
      "cell_type": "code",
      "source": [
        "print(\"Cluster 1 Gender: \\n\\n\",X0_df['gender'].value_counts(),\"\\n\\n\")\n",
        "print(\"Cluster 2 Gender: \\n\\n\",X1_df['gender'].value_counts(),\"\\n\\n\")\n",
        "print(\"Cluster 3 Gender: \\n\\n\",X2_df['gender'].value_counts(),\"\\n\\n\")\n",
        "print(\"Cluster 4 Gender: \\n\\n\",X3_df['gender'].value_counts(),\"\\n\\n\")\n",
        "print(\"Cluster 5 Gender: \\n\\n\",X4_df['gender'].value_counts(),\"\\n\\n\")"
      ],
      "metadata": {
        "colab": {
          "base_uri": "https://localhost:8080/"
        },
        "id": "VVAZ-VmLyCVG",
        "outputId": "02ff8de2-776a-466a-a9c7-525f7cbca366"
      },
      "execution_count": 14,
      "outputs": [
        {
          "output_type": "stream",
          "name": "stdout",
          "text": [
            "Cluster 1 Gender: \n",
            "\n",
            " M    627\n",
            "F    388\n",
            "Name: gender, dtype: int64 \n",
            "\n",
            "\n",
            "Cluster 2 Gender: \n",
            "\n",
            " F    720\n",
            "M    702\n",
            "Name: gender, dtype: int64 \n",
            "\n",
            "\n",
            "Cluster 3 Gender: \n",
            "\n",
            " M    1126\n",
            "F     309\n",
            "Name: gender, dtype: int64 \n",
            "\n",
            "\n",
            "Cluster 4 Gender: \n",
            "\n",
            " F    478\n",
            "M    145\n",
            "Name: gender, dtype: int64 \n",
            "\n",
            "\n",
            "Cluster 5 Gender: \n",
            "\n",
            " F    770\n",
            "M    535\n",
            "Name: gender, dtype: int64 \n",
            "\n",
            "\n"
          ]
        }
      ]
    },
    {
      "cell_type": "code",
      "source": [
        "print(\"Cluster 1 Insurance: \\n\\n\",X0_df['insurance'].value_counts(),\"\\n\\n\")\n",
        "print(\"Cluster 2 Insurance: \\n\\n\",X1_df['insurance'].value_counts(),\"\\n\\n\")\n",
        "print(\"Cluster 3 Insurance: \\n\\n\",X2_df['insurance'].value_counts(),\"\\n\\n\")\n",
        "print(\"Cluster 4 Insurance: \\n\\n\",X3_df['insurance'].value_counts(),\"\\n\\n\")\n",
        "print(\"Cluster 5 Insurance: \\n\\n\",X4_df['insurance'].value_counts(),\"\\n\\n\")"
      ],
      "metadata": {
        "colab": {
          "base_uri": "https://localhost:8080/"
        },
        "id": "ekgV-lBw0xP2",
        "outputId": "ece3b74d-0f25-4b64-f702-5e65f339e712"
      },
      "execution_count": 15,
      "outputs": [
        {
          "output_type": "stream",
          "name": "stdout",
          "text": [
            "Cluster 1 Insurance: \n",
            "\n",
            " Medicare    495\n",
            "Private     258\n",
            "Self Pay    131\n",
            "Medicaid    131\n",
            "Name: insurance, dtype: int64 \n",
            "\n",
            "\n",
            "Cluster 2 Insurance: \n",
            "\n",
            " Private       716\n",
            "Medicare      348\n",
            "Self Pay      134\n",
            "Government    118\n",
            "Medicaid      106\n",
            "Name: insurance, dtype: int64 \n",
            "\n",
            "\n",
            "Cluster 3 Insurance: \n",
            "\n",
            " Medicare    648\n",
            "Private     590\n",
            "Medicaid    197\n",
            "Name: insurance, dtype: int64 \n",
            "\n",
            "\n",
            "Cluster 4 Insurance: \n",
            "\n",
            " Medicare    473\n",
            "Medicaid    150\n",
            "Name: insurance, dtype: int64 \n",
            "\n",
            "\n",
            "Cluster 5 Insurance: \n",
            "\n",
            " Medicare      882\n",
            "Medicaid      333\n",
            "Government     48\n",
            "Private        42\n",
            "Name: insurance, dtype: int64 \n",
            "\n",
            "\n"
          ]
        }
      ]
    },
    {
      "cell_type": "code",
      "source": [
        "print(\"Cluster 1 Med: \\n\\n\",X0_df['drug'].value_counts(),\"\\n\\n\")\n",
        "print(\"Cluster 2 Med: \\n\\n\",X1_df['drug'].value_counts(),\"\\n\\n\")\n",
        "print(\"Cluster 3 Med: \\n\\n\",X2_df['drug'].value_counts(),\"\\n\\n\")\n",
        "print(\"Cluster 4 Med: \\n\\n\",X3_df['drug'].value_counts(),\"\\n\\n\")\n",
        "print(\"Cluster 5 Med: \\n\\n\",X4_df['drug'].value_counts(),\"\\n\\n\")"
      ],
      "metadata": {
        "colab": {
          "base_uri": "https://localhost:8080/"
        },
        "id": "N8UYrBmv1fsU",
        "outputId": "1b4ba138-79ae-4af2-9ba0-b4840293a9f8"
      },
      "execution_count": 16,
      "outputs": [
        {
          "output_type": "stream",
          "name": "stdout",
          "text": [
            "Cluster 1 Med: \n",
            "\n",
            " furosemide                        8\n",
            "docusate sodium                   8\n",
            "pantoprazole                      8\n",
            "pantoprazole sodium               8\n",
            "iso-osmotic dextrose              8\n",
            "                                 ..\n",
            "cyclosporine modified (neoral)    1\n",
            "aluminum hydroxide suspension     1\n",
            "midodrine hcl                     1\n",
            "hydroxyzine hcl                   1\n",
            "bactrim                           1\n",
            "Name: drug, Length: 304, dtype: int64 \n",
            "\n",
            "\n",
            "Cluster 2 Med: \n",
            "\n",
            " insulin                             66\n",
            "ns                                  64\n",
            "potassium chloride                  59\n",
            "insulin human regular               45\n",
            "neutra-phos                         45\n",
            "                                    ..\n",
            "alprazolam                           1\n",
            "amino acids 4.25% w/ dextrose 5%     1\n",
            "alteplase (catheter clearance)       1\n",
            "loperamide hcl                       1\n",
            "ceftazidime                          1\n",
            "Name: drug, Length: 245, dtype: int64 \n",
            "\n",
            "\n",
            "Cluster 3 Med: \n",
            "\n",
            " metoprolol                     17\n",
            "iso-osmotic dextrose           17\n",
            "acetaminophen                  17\n",
            "potassium chloride             17\n",
            "insulin                        17\n",
            "                               ..\n",
            "dakins 1/2 strength             1\n",
            "albumin 25% (12.5gm)            1\n",
            "amoxicillin-clavulanic acid     1\n",
            "caspofungin acetate             1\n",
            "megestrol                       1\n",
            "Name: drug, Length: 355, dtype: int64 \n",
            "\n",
            "\n",
            "Cluster 4 Med: \n",
            "\n",
            " ipratropium bromide mdi    4\n",
            "ns                         4\n",
            "sevelamer                  4\n",
            "morphine sulfate           4\n",
            "acetaminophen              4\n",
            "                          ..\n",
            "pramosone                  1\n",
            "eucerin                    1\n",
            "mupirocin cream 2%         1\n",
            "dextrose                   1\n",
            "scopolamine patch          1\n",
            "Name: drug, Length: 297, dtype: int64 \n",
            "\n",
            "\n",
            "Cluster 5 Med: \n",
            "\n",
            " ns                                  25\n",
            "insulin                             23\n",
            "potassium chloride                  23\n",
            "heparin                             22\n",
            "d5w                                 22\n",
            "                                    ..\n",
            "daclizumab                           1\n",
            "anti-thymocyte globulin (rabbit)     1\n",
            "pamidronate                          1\n",
            "amphotericin b                       1\n",
            "heparin (iabp)                       1\n",
            "Name: drug, Length: 351, dtype: int64 \n",
            "\n",
            "\n"
          ]
        }
      ]
    },
    {
      "cell_type": "code",
      "source": [
        "print(\"Cluster 1 Num Med: \\n\\n\",X0_df['Number of Medications'].describe(),\"\\n\\n\")\n",
        "print(\"Cluster 2 Num Med: \\n\\n\",X1_df['Number of Medications'].describe(),\"\\n\\n\")\n",
        "print(\"Cluster 3 Num Med: \\n\\n\",X2_df['Number of Medications'].describe(),\"\\n\\n\")\n",
        "print(\"Cluster 4 Num Med: \\n\\n\",X3_df['Number of Medications'].describe(),\"\\n\\n\")\n",
        "print(\"Cluster 5 Num Med: \\n\\n\",X4_df['Number of Medications'].describe(),\"\\n\\n\")"
      ],
      "metadata": {
        "colab": {
          "base_uri": "https://localhost:8080/"
        },
        "id": "cVUmDBqezBHc",
        "outputId": "67c88ddf-504d-4a36-8795-a2b84eb1acb5"
      },
      "execution_count": 24,
      "outputs": [
        {
          "output_type": "stream",
          "name": "stdout",
          "text": [
            "Cluster 1 Num Med: \n",
            "\n",
            " count    1015.000000\n",
            "mean      127.303448\n",
            "std         5.884367\n",
            "min       111.000000\n",
            "25%       128.000000\n",
            "50%       130.000000\n",
            "75%       131.000000\n",
            "max       131.000000\n",
            "Name: Number of Medications, dtype: float64 \n",
            "\n",
            "\n",
            "Cluster 2 Num Med: \n",
            "\n",
            " count    1422.000000\n",
            "mean       23.996484\n",
            "std         8.755052\n",
            "min         0.000000\n",
            "25%        18.000000\n",
            "50%        23.000000\n",
            "75%        30.000000\n",
            "max        38.000000\n",
            "Name: Number of Medications, dtype: float64 \n",
            "\n",
            "\n",
            "Cluster 3 Num Med: \n",
            "\n",
            " count    1435.000000\n",
            "mean       86.234146\n",
            "std        10.054431\n",
            "min        71.000000\n",
            "25%        73.500000\n",
            "50%        89.000000\n",
            "75%        91.000000\n",
            "max       100.000000\n",
            "Name: Number of Medications, dtype: float64 \n",
            "\n",
            "\n",
            "Cluster 4 Num Med: \n",
            "\n",
            " count    623.000000\n",
            "mean     158.444623\n",
            "std       14.957057\n",
            "min      147.000000\n",
            "25%      150.000000\n",
            "50%      150.000000\n",
            "75%      182.000000\n",
            "max      182.000000\n",
            "Name: Number of Medications, dtype: float64 \n",
            "\n",
            "\n",
            "Cluster 5 Num Med: \n",
            "\n",
            " count    1305.000000\n",
            "mean       55.853640\n",
            "std         8.782872\n",
            "min        40.000000\n",
            "25%        48.000000\n",
            "50%        58.000000\n",
            "75%        64.000000\n",
            "max        71.000000\n",
            "Name: Number of Medications, dtype: float64 \n",
            "\n",
            "\n"
          ]
        }
      ]
    },
    {
      "cell_type": "markdown",
      "source": [
        "**Recommendations**\n",
        "\n",
        "A pharma representative may want to market to health care professionals treating patients in cluster 2 because those are using insulin and are covered by private insurance. A doctor may want to intervene further on patients treating in cluster 3 beause those patients are at least 65 years old and suffering from both Diabetes and High Blood Pressure. These patients are already treating with insulin, but may need a change in dose or additional lifestyle intervention"
      ],
      "metadata": {
        "id": "Zn8AvWR8_jcl"
      }
    }
  ]
}